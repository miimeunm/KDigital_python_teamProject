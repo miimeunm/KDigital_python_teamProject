{
 "cells": [
  {
   "cell_type": "markdown",
   "id": "ad70b291",
   "metadata": {},
   "source": [
    "# 데이터 분석 프로젝트\n",
    "\n",
    "##### 공통 진행\n",
    "- 문제 파악하기\n",
    "- 데이터 수집 또는 준비\n",
    "- EDA 탐색적 자료 분석\n",
    "\n",
    "##### 개별 진행\n",
    "- 데이터 전처리\n",
    "- 데이터 분석\n",
    "- 머신 러닝 모델링\n",
    "- 결과 분석 및 보고서 작성 후 제출 (개인별 강의 평가자료에 활용)\n",
    "- 모든 작업 내용 팀원간 공유 및 피드백 적극 활용\n",
    "\n",
    "##### 결과 발표\n",
    "- 팀원 모두의 결과를 취합하여 포트폴리오 작성 후 제출\n",
    "   (팀 포트폴리오 자료 및 발표자료)\n",
    " - 발표자료 준비하여 발표"
   ]
  },
  {
   "cell_type": "markdown",
   "id": "3cf296d6",
   "metadata": {},
   "source": [
    "## 데이터 준비"
   ]
  },
  {
   "cell_type": "code",
   "execution_count": 2,
   "id": "6dd4591a",
   "metadata": {
    "scrolled": true
   },
   "outputs": [
    {
     "data": {
      "text/html": [
       "<div>\n",
       "<style scoped>\n",
       "    .dataframe tbody tr th:only-of-type {\n",
       "        vertical-align: middle;\n",
       "    }\n",
       "\n",
       "    .dataframe tbody tr th {\n",
       "        vertical-align: top;\n",
       "    }\n",
       "\n",
       "    .dataframe thead th {\n",
       "        text-align: right;\n",
       "    }\n",
       "</style>\n",
       "<table border=\"1\" class=\"dataframe\">\n",
       "  <thead>\n",
       "    <tr style=\"text-align: right;\">\n",
       "      <th></th>\n",
       "      <th>Person ID</th>\n",
       "      <th>Gender</th>\n",
       "      <th>Age</th>\n",
       "      <th>Occupation</th>\n",
       "      <th>Sleep Duration</th>\n",
       "      <th>Quality of Sleep</th>\n",
       "      <th>Physical Activity Level</th>\n",
       "      <th>Stress Level</th>\n",
       "      <th>BMI Category</th>\n",
       "      <th>Blood Pressure</th>\n",
       "      <th>Heart Rate</th>\n",
       "      <th>Daily Steps</th>\n",
       "      <th>Sleep Disorder</th>\n",
       "    </tr>\n",
       "  </thead>\n",
       "  <tbody>\n",
       "    <tr>\n",
       "      <th>0</th>\n",
       "      <td>1</td>\n",
       "      <td>Male</td>\n",
       "      <td>27</td>\n",
       "      <td>Software Engineer</td>\n",
       "      <td>6.1</td>\n",
       "      <td>6</td>\n",
       "      <td>42</td>\n",
       "      <td>6</td>\n",
       "      <td>Overweight</td>\n",
       "      <td>126/83</td>\n",
       "      <td>77</td>\n",
       "      <td>4200</td>\n",
       "      <td>None</td>\n",
       "    </tr>\n",
       "    <tr>\n",
       "      <th>1</th>\n",
       "      <td>2</td>\n",
       "      <td>Male</td>\n",
       "      <td>28</td>\n",
       "      <td>Doctor</td>\n",
       "      <td>6.2</td>\n",
       "      <td>6</td>\n",
       "      <td>60</td>\n",
       "      <td>8</td>\n",
       "      <td>Normal</td>\n",
       "      <td>125/80</td>\n",
       "      <td>75</td>\n",
       "      <td>10000</td>\n",
       "      <td>None</td>\n",
       "    </tr>\n",
       "    <tr>\n",
       "      <th>2</th>\n",
       "      <td>3</td>\n",
       "      <td>Male</td>\n",
       "      <td>28</td>\n",
       "      <td>Doctor</td>\n",
       "      <td>6.2</td>\n",
       "      <td>6</td>\n",
       "      <td>60</td>\n",
       "      <td>8</td>\n",
       "      <td>Normal</td>\n",
       "      <td>125/80</td>\n",
       "      <td>75</td>\n",
       "      <td>10000</td>\n",
       "      <td>None</td>\n",
       "    </tr>\n",
       "    <tr>\n",
       "      <th>3</th>\n",
       "      <td>4</td>\n",
       "      <td>Male</td>\n",
       "      <td>28</td>\n",
       "      <td>Sales Representative</td>\n",
       "      <td>5.9</td>\n",
       "      <td>4</td>\n",
       "      <td>30</td>\n",
       "      <td>8</td>\n",
       "      <td>Obese</td>\n",
       "      <td>140/90</td>\n",
       "      <td>85</td>\n",
       "      <td>3000</td>\n",
       "      <td>Sleep Apnea</td>\n",
       "    </tr>\n",
       "    <tr>\n",
       "      <th>4</th>\n",
       "      <td>5</td>\n",
       "      <td>Male</td>\n",
       "      <td>28</td>\n",
       "      <td>Sales Representative</td>\n",
       "      <td>5.9</td>\n",
       "      <td>4</td>\n",
       "      <td>30</td>\n",
       "      <td>8</td>\n",
       "      <td>Obese</td>\n",
       "      <td>140/90</td>\n",
       "      <td>85</td>\n",
       "      <td>3000</td>\n",
       "      <td>Sleep Apnea</td>\n",
       "    </tr>\n",
       "  </tbody>\n",
       "</table>\n",
       "</div>"
      ],
      "text/plain": [
       "   Person ID Gender  Age            Occupation  Sleep Duration  \\\n",
       "0          1   Male   27     Software Engineer             6.1   \n",
       "1          2   Male   28                Doctor             6.2   \n",
       "2          3   Male   28                Doctor             6.2   \n",
       "3          4   Male   28  Sales Representative             5.9   \n",
       "4          5   Male   28  Sales Representative             5.9   \n",
       "\n",
       "   Quality of Sleep  Physical Activity Level  Stress Level BMI Category  \\\n",
       "0                 6                       42             6   Overweight   \n",
       "1                 6                       60             8       Normal   \n",
       "2                 6                       60             8       Normal   \n",
       "3                 4                       30             8        Obese   \n",
       "4                 4                       30             8        Obese   \n",
       "\n",
       "  Blood Pressure  Heart Rate  Daily Steps Sleep Disorder  \n",
       "0         126/83          77         4200           None  \n",
       "1         125/80          75        10000           None  \n",
       "2         125/80          75        10000           None  \n",
       "3         140/90          85         3000    Sleep Apnea  \n",
       "4         140/90          85         3000    Sleep Apnea  "
      ]
     },
     "execution_count": 2,
     "metadata": {},
     "output_type": "execute_result"
    }
   ],
   "source": [
    "import pandas as pd\n",
    "import numpy as np\n",
    "import matplotlib.pyplot as plt\n",
    "\n",
    "sh = pd.read_csv('Sleep_health.csv')\n",
    "sh.head()"
   ]
  },
  {
   "cell_type": "markdown",
   "id": "e730a45c",
   "metadata": {},
   "source": [
    "### 데이터 나누기 전 혈압 카테고리 분리"
   ]
  },
  {
   "cell_type": "code",
   "execution_count": 3,
   "id": "ceed5f1e",
   "metadata": {
    "scrolled": true
   },
   "outputs": [
    {
     "data": {
      "text/plain": [
       "array(['126/83', '125/80', '140/90', '120/80', '132/87', '130/86',\n",
       "       '117/76', '118/76', '128/85', '131/86', '128/84', '115/75',\n",
       "       '135/88', '129/84', '130/85', '115/78', '119/77', '121/79',\n",
       "       '125/82', '135/90', '122/80', '142/92', '140/95', '139/91',\n",
       "       '118/75'], dtype=object)"
      ]
     },
     "execution_count": 3,
     "metadata": {},
     "output_type": "execute_result"
    }
   ],
   "source": [
    "sh['Blood Pressure'].unique()"
   ]
  },
  {
   "cell_type": "code",
   "execution_count": 4,
   "id": "b5de9114",
   "metadata": {},
   "outputs": [],
   "source": [
    "sh = pd.concat([sh, sh['Blood Pressure'].str.split('/', expand = True)],\n",
    "              axis = 1).drop('Blood Pressure', axis = 1)"
   ]
  },
  {
   "cell_type": "code",
   "execution_count": 5,
   "id": "5db4d83e",
   "metadata": {},
   "outputs": [],
   "source": [
    "sh = sh.rename(columns = {0: 'BloodPressure_high', 1: 'BloodPressure_low'})"
   ]
  },
  {
   "cell_type": "code",
   "execution_count": 6,
   "id": "b57d8b94",
   "metadata": {},
   "outputs": [],
   "source": [
    "sh['BloodPressure_high'] = sh['BloodPressure_high'].astype(float)\n",
    "sh['BloodPressure_low'] = sh['BloodPressure_low'].astype(float)"
   ]
  },
  {
   "cell_type": "markdown",
   "id": "123438f1",
   "metadata": {},
   "source": [
    "### 표 전체 시각화"
   ]
  },
  {
   "cell_type": "code",
   "execution_count": 7,
   "id": "5c99f90d",
   "metadata": {},
   "outputs": [
    {
     "name": "stderr",
     "output_type": "stream",
     "text": [
      "C:\\Users\\jongyeon.woo\\AppData\\Local\\Temp\\ipykernel_9792\\130557113.py:5: FutureWarning: The default value of numeric_only in DataFrame.corr is deprecated. In a future version, it will default to False. Select only valid columns or specify the value of numeric_only to silence this warning.\n",
      "  sns.heatmap(sh.drop('Person ID', axis = 1).corr(), annot=True, fmt='1.1f')\n"
     ]
    },
    {
     "data": {
      "image/png": "[encoded data removed]",
      "text/plain": [
       "<Figure size 1000x600 with 2 Axes>"
      ]
     },
     "metadata": {},
     "output_type": "display_data"
    }
   ],
   "source": [
    "import matplotlib.pyplot as plt\n",
    "import seaborn as sns\n",
    "\n",
    "plt.figure(figsize = (10, 6))\n",
    "sns.heatmap(sh.drop('Person ID', axis = 1).corr(), annot=True, fmt='1.1f')\n",
    "plt.title('Sleep Health and Lifestyle')\n",
    "plt.show()"
   ]
  },
  {
   "cell_type": "markdown",
   "id": "bc0bd643",
   "metadata": {},
   "source": [
    "## 데이터 나누기"
   ]
  },
  {
   "cell_type": "code",
   "execution_count": 8,
   "id": "89a47bc6",
   "metadata": {},
   "outputs": [],
   "source": [
    "sh_in = sh[['Age', 'Sleep Duration', 'Quality of Sleep', \n",
    "            'Physical Activity Level', 'Stress Level', \n",
    "            'Heart Rate', 'BloodPressure_high', 'Daily Steps']].to_numpy()\n",
    "\n",
    "sh_tar = sh['Sleep Disorder'].to_numpy()"
   ]
  },
  {
   "cell_type": "code",
   "execution_count": 9,
   "id": "94e90893",
   "metadata": {},
   "outputs": [],
   "source": [
    "from sklearn.model_selection import train_test_split\n",
    "\n",
    "tr_in, te_in, tr_tar, te_tar = train_test_split(\n",
    "            sh_in, sh_tar, test_size = 0.4, random_state = 45)"
   ]
  },
  {
   "cell_type": "code",
   "execution_count": 10,
   "id": "13b77081",
   "metadata": {},
   "outputs": [],
   "source": [
    "tr_s, te_s, tr_val, te_val = train_test_split(\n",
    "        tr_in, tr_tar, test_size = 0.2, random_state = 42)"
   ]
  },
  {
   "cell_type": "markdown",
   "id": "77574cc9",
   "metadata": {},
   "source": [
    "## 결정트리"
   ]
  },
  {
   "cell_type": "code",
   "execution_count": 11,
   "id": "bd068a2c",
   "metadata": {},
   "outputs": [
    {
     "name": "stdout",
     "output_type": "stream",
     "text": [
      "훈련모델 결과: 0.9329608938547486\n",
      "테스트 결과: 0.9111111111111111\n"
     ]
    }
   ],
   "source": [
    "from sklearn.tree import DecisionTreeClassifier\n",
    "\n",
    "dt = DecisionTreeClassifier(random_state = 42)\n",
    "dt.fit(tr_s, tr_val)\n",
    "\n",
    "print('훈련모델 결과:', dt.score(tr_s, tr_val))\n",
    "print('테스트 결과:', dt.score(te_s, te_val))"
   ]
  },
  {
   "cell_type": "markdown",
   "id": "85f34d12",
   "metadata": {},
   "source": [
    "### 결정트리 특성 중요도 확인"
   ]
  },
  {
   "cell_type": "code",
   "execution_count": 12,
   "id": "abbd171b",
   "metadata": {},
   "outputs": [
    {
     "data": {
      "text/plain": [
       "array([0.06654908, 0.05302117, 0.00143373, 0.25096283, 0.        ,\n",
       "       0.0037801 , 0.60114866, 0.02310444])"
      ]
     },
     "execution_count": 12,
     "metadata": {},
     "output_type": "execute_result"
    }
   ],
   "source": [
    "dt.fit(tr_in, tr_tar)\n",
    "dt.feature_importances_"
   ]
  },
  {
   "cell_type": "markdown",
   "id": "8dd880e5",
   "metadata": {},
   "source": [
    "## 교차검증"
   ]
  },
  {
   "cell_type": "code",
   "execution_count": 13,
   "id": "82b993e8",
   "metadata": {},
   "outputs": [],
   "source": [
    "from sklearn.tree import DecisionTreeClassifier\n",
    "\n",
    "dt = DecisionTreeClassifier(random_state = 42)"
   ]
  },
  {
   "cell_type": "code",
   "execution_count": 14,
   "id": "ff11d269",
   "metadata": {},
   "outputs": [
    {
     "data": {
      "text/plain": [
       "{'fit_time': array([0.00398779, 0.00299549, 0.00199533, 0.00099468, 0.00199509,\n",
       "        0.00199485, 0.0019958 , 0.00299215, 0.00299692, 0.00199437]),\n",
       " 'score_time': array([0.        , 0.        , 0.00099897, 0.        , 0.        ,\n",
       "        0.        , 0.00099802, 0.00199485, 0.00099182, 0.00099802]),\n",
       " 'test_score': array([0.86956522, 0.91304348, 0.91304348, 0.86956522, 0.77272727,\n",
       "        0.81818182, 0.90909091, 0.86363636, 0.81818182, 0.86363636]),\n",
       " 'train_score': array([0.94029851, 0.94029851, 0.94029851, 0.93034826, 0.94554455,\n",
       "        0.94059406, 0.93069307, 0.94059406, 0.94059406, 0.94059406])}"
      ]
     },
     "execution_count": 14,
     "metadata": {},
     "output_type": "execute_result"
    }
   ],
   "source": [
    "from sklearn.model_selection import cross_validate, StratifiedKFold\n",
    " \n",
    "splitter = StratifiedKFold(n_splits = 10, shuffle = True, random_state = 42)\n",
    "    \n",
    "scores = cross_validate(dt, tr_in, tr_tar, return_train_score=True, cv=splitter)\n",
    "scores"
   ]
  },
  {
   "cell_type": "code",
   "execution_count": 15,
   "id": "a1b7f95b",
   "metadata": {},
   "outputs": [
    {
     "name": "stdout",
     "output_type": "stream",
     "text": [
      "훈련모델 결과: 0.9389857642480666\n",
      "테스트 결과: 0.8610671936758892\n"
     ]
    }
   ],
   "source": [
    "print('훈련모델 결과:', np.mean(scores['train_score']))\n",
    "print('테스트 결과:', np.mean(scores['test_score']))"
   ]
  },
  {
   "cell_type": "markdown",
   "id": "2abcb204",
   "metadata": {},
   "source": [
    "## 그리드서치"
   ]
  },
  {
   "cell_type": "code",
   "execution_count": 20,
   "id": "6dd65c80",
   "metadata": {},
   "outputs": [
    {
     "data": {
      "text/html": [
       "<style>#sk-container-id-1 {color: black;background-color: white;}#sk-container-id-1 pre{padding: 0;}#sk-container-id-1 div.sk-toggleable {background-color: white;}#sk-container-id-1 label.sk-toggleable__label {cursor: pointer;display: block;width: 100%;margin-bottom: 0;padding: 0.3em;box-sizing: border-box;text-align: center;}#sk-container-id-1 label.sk-toggleable__label-arrow:before {content: \"▸\";float: left;margin-right: 0.25em;color: #696969;}#sk-container-id-1 label.sk-toggleable__label-arrow:hover:before {color: black;}#sk-container-id-1 div.sk-estimator:hover label.sk-toggleable__label-arrow:before {color: black;}#sk-container-id-1 div.sk-toggleable__content {max-height: 0;max-width: 0;overflow: hidden;text-align: left;background-color: #f0f8ff;}#sk-container-id-1 div.sk-toggleable__content pre {margin: 0.2em;color: black;border-radius: 0.25em;background-color: #f0f8ff;}#sk-container-id-1 input.sk-toggleable__control:checked~div.sk-toggleable__content {max-height: 200px;max-width: 100%;overflow: auto;}#sk-container-id-1 input.sk-toggleable__control:checked~label.sk-toggleable__label-arrow:before {content: \"▾\";}#sk-container-id-1 div.sk-estimator input.sk-toggleable__control:checked~label.sk-toggleable__label {background-color: #d4ebff;}#sk-container-id-1 div.sk-label input.sk-toggleable__control:checked~label.sk-toggleable__label {background-color: #d4ebff;}#sk-container-id-1 input.sk-hidden--visually {border: 0;clip: rect(1px 1px 1px 1px);clip: rect(1px, 1px, 1px, 1px);height: 1px;margin: -1px;overflow: hidden;padding: 0;position: absolute;width: 1px;}#sk-container-id-1 div.sk-estimator {font-family: monospace;background-color: #f0f8ff;border: 1px dotted black;border-radius: 0.25em;box-sizing: border-box;margin-bottom: 0.5em;}#sk-container-id-1 div.sk-estimator:hover {background-color: #d4ebff;}#sk-container-id-1 div.sk-parallel-item::after {content: \"\";width: 100%;border-bottom: 1px solid gray;flex-grow: 1;}#sk-container-id-1 div.sk-label:hover label.sk-toggleable__label {background-color: #d4ebff;}#sk-container-id-1 div.sk-serial::before {content: \"\";position: absolute;border-left: 1px solid gray;box-sizing: border-box;top: 0;bottom: 0;left: 50%;z-index: 0;}#sk-container-id-1 div.sk-serial {display: flex;flex-direction: column;align-items: center;background-color: white;padding-right: 0.2em;padding-left: 0.2em;position: relative;}#sk-container-id-1 div.sk-item {position: relative;z-index: 1;}#sk-container-id-1 div.sk-parallel {display: flex;align-items: stretch;justify-content: center;background-color: white;position: relative;}#sk-container-id-1 div.sk-item::before, #sk-container-id-1 div.sk-parallel-item::before {content: \"\";position: absolute;border-left: 1px solid gray;box-sizing: border-box;top: 0;bottom: 0;left: 50%;z-index: -1;}#sk-container-id-1 div.sk-parallel-item {display: flex;flex-direction: column;z-index: 1;position: relative;background-color: white;}#sk-container-id-1 div.sk-parallel-item:first-child::after {align-self: flex-end;width: 50%;}#sk-container-id-1 div.sk-parallel-item:last-child::after {align-self: flex-start;width: 50%;}#sk-container-id-1 div.sk-parallel-item:only-child::after {width: 0;}#sk-container-id-1 div.sk-dashed-wrapped {border: 1px dashed gray;margin: 0 0.4em 0.5em 0.4em;box-sizing: border-box;padding-bottom: 0.4em;background-color: white;}#sk-container-id-1 div.sk-label label {font-family: monospace;font-weight: bold;display: inline-block;line-height: 1.2em;}#sk-container-id-1 div.sk-label-container {text-align: center;}#sk-container-id-1 div.sk-container {/* jupyter's `normalize.less` sets `[hidden] { display: none; }` but bootstrap.min.css set `[hidden] { display: none !important; }` so we also need the `!important` here to be able to override the default hidden behavior on the sphinx rendered scikit-learn.org. See: https://github.com/scikit-learn/scikit-learn/issues/21755 */display: inline-block !important;position: relative;}#sk-container-id-1 div.sk-text-repr-fallback {display: none;}</style><div id=\"sk-container-id-1\" class=\"sk-top-container\"><div class=\"sk-text-repr-fallback\"><pre>GridSearchCV(estimator=DecisionTreeClassifier(random_state=42), n_jobs=-1,\n",
       "             param_grid={&#x27;min_impurity_decrease&#x27;: [0.0001, 0.0002, 0.0003,\n",
       "                                                   0.0004, 0.0005]})</pre><b>In a Jupyter environment, please rerun this cell to show the HTML representation or trust the notebook. <br />On GitHub, the HTML representation is unable to render, please try loading this page with nbviewer.org.</b></div><div class=\"sk-container\" hidden><div class=\"sk-item sk-dashed-wrapped\"><div class=\"sk-label-container\"><div class=\"sk-label sk-toggleable\"><input class=\"sk-toggleable__control sk-hidden--visually\" id=\"sk-estimator-id-1\" type=\"checkbox\" ><label for=\"sk-estimator-id-1\" class=\"sk-toggleable__label sk-toggleable__label-arrow\">GridSearchCV</label><div class=\"sk-toggleable__content\"><pre>GridSearchCV(estimator=DecisionTreeClassifier(random_state=42), n_jobs=-1,\n",
       "             param_grid={&#x27;min_impurity_decrease&#x27;: [0.0001, 0.0002, 0.0003,\n",
       "                                                   0.0004, 0.0005]})</pre></div></div></div><div class=\"sk-parallel\"><div class=\"sk-parallel-item\"><div class=\"sk-item\"><div class=\"sk-label-container\"><div class=\"sk-label sk-toggleable\"><input class=\"sk-toggleable__control sk-hidden--visually\" id=\"sk-estimator-id-2\" type=\"checkbox\" ><label for=\"sk-estimator-id-2\" class=\"sk-toggleable__label sk-toggleable__label-arrow\">estimator: DecisionTreeClassifier</label><div class=\"sk-toggleable__content\"><pre>DecisionTreeClassifier(random_state=42)</pre></div></div></div><div class=\"sk-serial\"><div class=\"sk-item\"><div class=\"sk-estimator sk-toggleable\"><input class=\"sk-toggleable__control sk-hidden--visually\" id=\"sk-estimator-id-3\" type=\"checkbox\" ><label for=\"sk-estimator-id-3\" class=\"sk-toggleable__label sk-toggleable__label-arrow\">DecisionTreeClassifier</label><div class=\"sk-toggleable__content\"><pre>DecisionTreeClassifier(random_state=42)</pre></div></div></div></div></div></div></div></div></div></div>"
      ],
      "text/plain": [
       "GridSearchCV(estimator=DecisionTreeClassifier(random_state=42), n_jobs=-1,\n",
       "             param_grid={'min_impurity_decrease': [0.0001, 0.0002, 0.0003,\n",
       "                                                   0.0004, 0.0005]})"
      ]
     },
     "execution_count": 20,
     "metadata": {},
     "output_type": "execute_result"
    }
   ],
   "source": [
    "from sklearn.tree import DecisionTreeClassifier\n",
    "from sklearn.model_selection import GridSearchCV\n",
    "\n",
    "par = {'min_impurity_decrease': [0.0001, 0.0002, 0.0003, 0.0004, 0.0005]}\n",
    "\n",
    "gs = GridSearchCV(DecisionTreeClassifier(random_state=42), par, n_jobs=-1)\n",
    "gs.fit(tr_in, tr_tar)"
   ]
  },
  {
   "cell_type": "code",
   "execution_count": 21,
   "id": "22707015",
   "metadata": {},
   "outputs": [
    {
     "data": {
      "text/plain": [
       "{'min_impurity_decrease': 0.0001}"
      ]
     },
     "execution_count": 21,
     "metadata": {},
     "output_type": "execute_result"
    }
   ],
   "source": [
    "gs.best_params_"
   ]
  },
  {
   "cell_type": "code",
   "execution_count": 22,
   "id": "522c4dca",
   "metadata": {},
   "outputs": [
    {
     "data": {
      "text/plain": [
       "array([0.88393939, 0.88393939, 0.88393939, 0.87949495, 0.87949495])"
      ]
     },
     "execution_count": 22,
     "metadata": {},
     "output_type": "execute_result"
    }
   ],
   "source": [
    "gs.cv_results_['mean_test_score']"
   ]
  },
  {
   "cell_type": "code",
   "execution_count": 23,
   "id": "3d2aa0b1",
   "metadata": {},
   "outputs": [
    {
     "data": {
      "text/plain": [
       "{'min_impurity_decrease': 0.0001}"
      ]
     },
     "execution_count": 23,
     "metadata": {},
     "output_type": "execute_result"
    }
   ],
   "source": [
    "best_idx = np.argmax(gs.cv_results_['mean_test_score'])\n",
    "gs.cv_results_['params'][best_idx]"
   ]
  },
  {
   "cell_type": "code",
   "execution_count": 24,
   "id": "a7f4d516",
   "metadata": {},
   "outputs": [
    {
     "data": {
      "text/html": [
       "<style>#sk-container-id-2 {color: black;background-color: white;}#sk-container-id-2 pre{padding: 0;}#sk-container-id-2 div.sk-toggleable {background-color: white;}#sk-container-id-2 label.sk-toggleable__label {cursor: pointer;display: block;width: 100%;margin-bottom: 0;padding: 0.3em;box-sizing: border-box;text-align: center;}#sk-container-id-2 label.sk-toggleable__label-arrow:before {content: \"▸\";float: left;margin-right: 0.25em;color: #696969;}#sk-container-id-2 label.sk-toggleable__label-arrow:hover:before {color: black;}#sk-container-id-2 div.sk-estimator:hover label.sk-toggleable__label-arrow:before {color: black;}#sk-container-id-2 div.sk-toggleable__content {max-height: 0;max-width: 0;overflow: hidden;text-align: left;background-color: #f0f8ff;}#sk-container-id-2 div.sk-toggleable__content pre {margin: 0.2em;color: black;border-radius: 0.25em;background-color: #f0f8ff;}#sk-container-id-2 input.sk-toggleable__control:checked~div.sk-toggleable__content {max-height: 200px;max-width: 100%;overflow: auto;}#sk-container-id-2 input.sk-toggleable__control:checked~label.sk-toggleable__label-arrow:before {content: \"▾\";}#sk-container-id-2 div.sk-estimator input.sk-toggleable__control:checked~label.sk-toggleable__label {background-color: #d4ebff;}#sk-container-id-2 div.sk-label input.sk-toggleable__control:checked~label.sk-toggleable__label {background-color: #d4ebff;}#sk-container-id-2 input.sk-hidden--visually {border: 0;clip: rect(1px 1px 1px 1px);clip: rect(1px, 1px, 1px, 1px);height: 1px;margin: -1px;overflow: hidden;padding: 0;position: absolute;width: 1px;}#sk-container-id-2 div.sk-estimator {font-family: monospace;background-color: #f0f8ff;border: 1px dotted black;border-radius: 0.25em;box-sizing: border-box;margin-bottom: 0.5em;}#sk-container-id-2 div.sk-estimator:hover {background-color: #d4ebff;}#sk-container-id-2 div.sk-parallel-item::after {content: \"\";width: 100%;border-bottom: 1px solid gray;flex-grow: 1;}#sk-container-id-2 div.sk-label:hover label.sk-toggleable__label {background-color: #d4ebff;}#sk-container-id-2 div.sk-serial::before {content: \"\";position: absolute;border-left: 1px solid gray;box-sizing: border-box;top: 0;bottom: 0;left: 50%;z-index: 0;}#sk-container-id-2 div.sk-serial {display: flex;flex-direction: column;align-items: center;background-color: white;padding-right: 0.2em;padding-left: 0.2em;position: relative;}#sk-container-id-2 div.sk-item {position: relative;z-index: 1;}#sk-container-id-2 div.sk-parallel {display: flex;align-items: stretch;justify-content: center;background-color: white;position: relative;}#sk-container-id-2 div.sk-item::before, #sk-container-id-2 div.sk-parallel-item::before {content: \"\";position: absolute;border-left: 1px solid gray;box-sizing: border-box;top: 0;bottom: 0;left: 50%;z-index: -1;}#sk-container-id-2 div.sk-parallel-item {display: flex;flex-direction: column;z-index: 1;position: relative;background-color: white;}#sk-container-id-2 div.sk-parallel-item:first-child::after {align-self: flex-end;width: 50%;}#sk-container-id-2 div.sk-parallel-item:last-child::after {align-self: flex-start;width: 50%;}#sk-container-id-2 div.sk-parallel-item:only-child::after {width: 0;}#sk-container-id-2 div.sk-dashed-wrapped {border: 1px dashed gray;margin: 0 0.4em 0.5em 0.4em;box-sizing: border-box;padding-bottom: 0.4em;background-color: white;}#sk-container-id-2 div.sk-label label {font-family: monospace;font-weight: bold;display: inline-block;line-height: 1.2em;}#sk-container-id-2 div.sk-label-container {text-align: center;}#sk-container-id-2 div.sk-container {/* jupyter's `normalize.less` sets `[hidden] { display: none; }` but bootstrap.min.css set `[hidden] { display: none !important; }` so we also need the `!important` here to be able to override the default hidden behavior on the sphinx rendered scikit-learn.org. See: https://github.com/scikit-learn/scikit-learn/issues/21755 */display: inline-block !important;position: relative;}#sk-container-id-2 div.sk-text-repr-fallback {display: none;}</style><div id=\"sk-container-id-2\" class=\"sk-top-container\"><div class=\"sk-text-repr-fallback\"><pre>RandomizedSearchCV(estimator=DecisionTreeClassifier(random_state=42),\n",
       "                   n_iter=100, n_jobs=-1,\n",
       "                   param_distributions={&#x27;max_depth&#x27;: &lt;scipy.stats._distn_infrastructure.rv_discrete_frozen object at 0x00000130B1A74490&gt;,\n",
       "                                        &#x27;min_impurity_decrease&#x27;: &lt;scipy.stats._distn_infrastructure.rv_continuous_frozen object at 0x00000130B19C2F20&gt;,\n",
       "                                        &#x27;min_samples_leaf&#x27;: &lt;scipy.stats._distn_infrastructure.rv_discrete_frozen object at 0x00000130B1A75210&gt;,\n",
       "                                        &#x27;min_samples_split&#x27;: &lt;scipy.stats._distn_infrastructure.rv_discrete_frozen object at 0x00000130B1A74F70&gt;},\n",
       "                   random_state=42)</pre><b>In a Jupyter environment, please rerun this cell to show the HTML representation or trust the notebook. <br />On GitHub, the HTML representation is unable to render, please try loading this page with nbviewer.org.</b></div><div class=\"sk-container\" hidden><div class=\"sk-item sk-dashed-wrapped\"><div class=\"sk-label-container\"><div class=\"sk-label sk-toggleable\"><input class=\"sk-toggleable__control sk-hidden--visually\" id=\"sk-estimator-id-4\" type=\"checkbox\" ><label for=\"sk-estimator-id-4\" class=\"sk-toggleable__label sk-toggleable__label-arrow\">RandomizedSearchCV</label><div class=\"sk-toggleable__content\"><pre>RandomizedSearchCV(estimator=DecisionTreeClassifier(random_state=42),\n",
       "                   n_iter=100, n_jobs=-1,\n",
       "                   param_distributions={&#x27;max_depth&#x27;: &lt;scipy.stats._distn_infrastructure.rv_discrete_frozen object at 0x00000130B1A74490&gt;,\n",
       "                                        &#x27;min_impurity_decrease&#x27;: &lt;scipy.stats._distn_infrastructure.rv_continuous_frozen object at 0x00000130B19C2F20&gt;,\n",
       "                                        &#x27;min_samples_leaf&#x27;: &lt;scipy.stats._distn_infrastructure.rv_discrete_frozen object at 0x00000130B1A75210&gt;,\n",
       "                                        &#x27;min_samples_split&#x27;: &lt;scipy.stats._distn_infrastructure.rv_discrete_frozen object at 0x00000130B1A74F70&gt;},\n",
       "                   random_state=42)</pre></div></div></div><div class=\"sk-parallel\"><div class=\"sk-parallel-item\"><div class=\"sk-item\"><div class=\"sk-label-container\"><div class=\"sk-label sk-toggleable\"><input class=\"sk-toggleable__control sk-hidden--visually\" id=\"sk-estimator-id-5\" type=\"checkbox\" ><label for=\"sk-estimator-id-5\" class=\"sk-toggleable__label sk-toggleable__label-arrow\">estimator: DecisionTreeClassifier</label><div class=\"sk-toggleable__content\"><pre>DecisionTreeClassifier(random_state=42)</pre></div></div></div><div class=\"sk-serial\"><div class=\"sk-item\"><div class=\"sk-estimator sk-toggleable\"><input class=\"sk-toggleable__control sk-hidden--visually\" id=\"sk-estimator-id-6\" type=\"checkbox\" ><label for=\"sk-estimator-id-6\" class=\"sk-toggleable__label sk-toggleable__label-arrow\">DecisionTreeClassifier</label><div class=\"sk-toggleable__content\"><pre>DecisionTreeClassifier(random_state=42)</pre></div></div></div></div></div></div></div></div></div></div>"
      ],
      "text/plain": [
       "RandomizedSearchCV(estimator=DecisionTreeClassifier(random_state=42),\n",
       "                   n_iter=100, n_jobs=-1,\n",
       "                   param_distributions={'max_depth': <scipy.stats._distn_infrastructure.rv_discrete_frozen object at 0x00000130B1A74490>,\n",
       "                                        'min_impurity_decrease': <scipy.stats._distn_infrastructure.rv_continuous_frozen object at 0x00000130B19C2F20>,\n",
       "                                        'min_samples_leaf': <scipy.stats._distn_infrastructure.rv_discrete_frozen object at 0x00000130B1A75210>,\n",
       "                                        'min_samples_split': <scipy.stats._distn_infrastructure.rv_discrete_frozen object at 0x00000130B1A74F70>},\n",
       "                   random_state=42)"
      ]
     },
     "execution_count": 24,
     "metadata": {},
     "output_type": "execute_result"
    }
   ],
   "source": [
    "from sklearn.model_selection import RandomizedSearchCV\n",
    "from scipy.stats import uniform, randint\n",
    "\n",
    "par = {'min_impurity_decrease': uniform(0.0001, 0.001),\n",
    "      'max_depth': randint(20, 50),\n",
    "      'min_samples_split': randint(2, 25),\n",
    "      'min_samples_leaf': randint(1, 25),\n",
    "      }\n",
    "\n",
    "gs = RandomizedSearchCV(DecisionTreeClassifier(random_state = 42), par,\n",
    "                       n_iter = 100, n_jobs = -1, random_state = 42)\n",
    "gs.fit(tr_in, tr_tar)"
   ]
  },
  {
   "cell_type": "code",
   "execution_count": 25,
   "id": "4737dcca",
   "metadata": {},
   "outputs": [
    {
     "data": {
      "text/plain": [
       "{'max_depth': 42,\n",
       " 'min_impurity_decrease': 0.00015808361216819946,\n",
       " 'min_samples_leaf': 24,\n",
       " 'min_samples_split': 22}"
      ]
     },
     "execution_count": 25,
     "metadata": {},
     "output_type": "execute_result"
    }
   ],
   "source": [
    "gs.best_params_"
   ]
  },
  {
   "cell_type": "code",
   "execution_count": 26,
   "id": "ef42dbc7",
   "metadata": {},
   "outputs": [
    {
     "data": {
      "text/plain": [
       "0.906060606060606"
      ]
     },
     "execution_count": 26,
     "metadata": {},
     "output_type": "execute_result"
    }
   ],
   "source": [
    "np.max(gs.cv_results_['mean_test_score'])"
   ]
  },
  {
   "cell_type": "code",
   "execution_count": 27,
   "id": "a2335784",
   "metadata": {},
   "outputs": [
    {
     "name": "stdout",
     "output_type": "stream",
     "text": [
      "훈련모델 결과: 0.90625\n",
      "테스트 결과: 0.9133333333333333\n"
     ]
    }
   ],
   "source": [
    "dt = gs.best_estimator_\n",
    "\n",
    "print('훈련모델 결과:', dt.score(tr_in, tr_tar))\n",
    "print('테스트 결과:', dt.score(te_in, te_tar))"
   ]
  },
  {
   "cell_type": "markdown",
   "id": "1c1bcaca",
   "metadata": {},
   "source": [
    "### 그리드서치 특성 중요도 확인"
   ]
  },
  {
   "cell_type": "code",
   "execution_count": 30,
   "id": "44fb85aa",
   "metadata": {},
   "outputs": [
    {
     "data": {
      "text/plain": [
       "array([0.0031327, 0.       , 0.       , 0.296929 , 0.       , 0.       ,\n",
       "       0.6999383, 0.       ])"
      ]
     },
     "execution_count": 30,
     "metadata": {},
     "output_type": "execute_result"
    }
   ],
   "source": [
    "dt.fit(tr_in, tr_tar)\n",
    "dt.feature_importances_"
   ]
  },
  {
   "cell_type": "markdown",
   "id": "9022380d",
   "metadata": {},
   "source": [
    "## 랜덤 포레스트"
   ]
  },
  {
   "cell_type": "code",
   "execution_count": 31,
   "id": "8012d81f",
   "metadata": {},
   "outputs": [
    {
     "name": "stdout",
     "output_type": "stream",
     "text": [
      "훈련모델 결과: 0.9397268777157045\n",
      "테스트 결과: 0.8927272727272728\n"
     ]
    }
   ],
   "source": [
    "from sklearn.ensemble import RandomForestClassifier\n",
    "\n",
    "rf = RandomForestClassifier(n_jobs = -1, random_state = 42)\n",
    "scores = cross_validate(rf, tr_in, tr_tar, return_train_score=True, n_jobs = -1)\n",
    "\n",
    "print('훈련모델 결과:', np.mean(scores['train_score'])) \n",
    "print('테스트 결과:', np.mean(scores['test_score']))"
   ]
  },
  {
   "cell_type": "markdown",
   "id": "0034f897",
   "metadata": {},
   "source": [
    "### 랜덤 포레스트 자체 모델 평가 점수"
   ]
  },
  {
   "cell_type": "code",
   "execution_count": 32,
   "id": "ffdd7cec",
   "metadata": {},
   "outputs": [
    {
     "data": {
      "text/plain": [
       "0.8794642857142857"
      ]
     },
     "execution_count": 32,
     "metadata": {},
     "output_type": "execute_result"
    }
   ],
   "source": [
    "rf = RandomForestClassifier(oob_score=True, n_jobs=-1, random_state=42)\n",
    "\n",
    "rf.fit(tr_in, tr_tar)\n",
    "rf.oob_score_"
   ]
  },
  {
   "cell_type": "markdown",
   "id": "ceb566c4",
   "metadata": {},
   "source": [
    "### 랜덤 포레스트 특성 중요도 확인"
   ]
  },
  {
   "cell_type": "code",
   "execution_count": 33,
   "id": "3d00c10c",
   "metadata": {},
   "outputs": [
    {
     "data": {
      "text/plain": [
       "array([0.20017877, 0.21157347, 0.05298897, 0.09188461, 0.05800107,\n",
       "       0.0816382 , 0.23512445, 0.06861046])"
      ]
     },
     "execution_count": 33,
     "metadata": {},
     "output_type": "execute_result"
    }
   ],
   "source": [
    "rf.fit(tr_in, tr_tar)\n",
    "rf.feature_importances_"
   ]
  },
  {
   "cell_type": "markdown",
   "id": "f1d3f736",
   "metadata": {},
   "source": [
    "## 엑스트라 트리"
   ]
  },
  {
   "cell_type": "code",
   "execution_count": 34,
   "id": "bb384a21",
   "metadata": {},
   "outputs": [
    {
     "name": "stdout",
     "output_type": "stream",
     "text": [
      "훈련모델 결과: 0.9397268777157045\n",
      "테스트 결과: 0.8705050505050504\n"
     ]
    }
   ],
   "source": [
    "from sklearn.ensemble import ExtraTreesClassifier\n",
    "\n",
    "et = ExtraTreesClassifier(n_jobs = -1, random_state = 42)\n",
    "scores = cross_validate(et, tr_in, tr_tar, return_train_score=True, n_jobs = -1)\n",
    "\n",
    "print('훈련모델 결과:', np.mean(scores['train_score'])) \n",
    "print('테스트 결과:', np.mean(scores['test_score']))"
   ]
  },
  {
   "cell_type": "markdown",
   "id": "d10869c2",
   "metadata": {},
   "source": [
    "### 엑스트라 트리 특성 중요도"
   ]
  },
  {
   "cell_type": "code",
   "execution_count": 35,
   "id": "029fd79f",
   "metadata": {},
   "outputs": [
    {
     "data": {
      "text/plain": [
       "array([0.15676308, 0.17459067, 0.0811715 , 0.11878849, 0.083239  ,\n",
       "       0.07298681, 0.23243231, 0.08002814])"
      ]
     },
     "execution_count": 35,
     "metadata": {},
     "output_type": "execute_result"
    }
   ],
   "source": [
    "et.fit(tr_in, tr_tar)\n",
    "et.feature_importances_"
   ]
  },
  {
   "cell_type": "markdown",
   "id": "e707acd4",
   "metadata": {},
   "source": [
    "## 그레이디언트 부스팅"
   ]
  },
  {
   "cell_type": "code",
   "execution_count": 36,
   "id": "9651298f",
   "metadata": {},
   "outputs": [
    {
     "name": "stdout",
     "output_type": "stream",
     "text": [
      "훈련모델 결과: 0.9397268777157045\n",
      "테스트 결과: 0.8928282828282829\n"
     ]
    }
   ],
   "source": [
    "from sklearn.ensemble import GradientBoostingClassifier\n",
    "\n",
    "gb = GradientBoostingClassifier(random_state=42)\n",
    "scores = cross_validate(gb, tr_in, tr_tar, return_train_score=True, n_jobs = -1)\n",
    "\n",
    "print('훈련모델 결과:', np.mean(scores['train_score'])) \n",
    "print('테스트 결과:', np.mean(scores['test_score']))"
   ]
  },
  {
   "cell_type": "markdown",
   "id": "250c3f02",
   "metadata": {},
   "source": [
    "### 학습률 조정"
   ]
  },
  {
   "cell_type": "code",
   "execution_count": 37,
   "id": "99f881b0",
   "metadata": {},
   "outputs": [
    {
     "name": "stdout",
     "output_type": "stream",
     "text": [
      "훈련모델 결과: 0.9397268777157045\n",
      "테스트 결과: 0.883939393939394\n"
     ]
    }
   ],
   "source": [
    "gb = GradientBoostingClassifier(n_estimators=500, learning_rate=0.2, \n",
    "                                random_state=42)\n",
    "scores = cross_validate(gb, tr_in, tr_tar, return_train_score=True, n_jobs = -1)\n",
    "\n",
    "print('훈련모델 결과:', np.mean(scores['train_score'])) \n",
    "print('테스트 결과:', np.mean(scores['test_score']))"
   ]
  },
  {
   "cell_type": "markdown",
   "id": "9f44a661",
   "metadata": {},
   "source": [
    "### 그레이디언트 부스팅 특성 중요도"
   ]
  },
  {
   "cell_type": "code",
   "execution_count": 38,
   "id": "e502ae09",
   "metadata": {},
   "outputs": [
    {
     "data": {
      "text/plain": [
       "array([0.0499923 , 0.33729875, 0.01414496, 0.02527074, 0.00169914,\n",
       "       0.03707805, 0.44014591, 0.09437015])"
      ]
     },
     "execution_count": 38,
     "metadata": {},
     "output_type": "execute_result"
    }
   ],
   "source": [
    "gb.fit(tr_in, tr_tar)\n",
    "gb.feature_importances_"
   ]
  },
  {
   "cell_type": "markdown",
   "id": "24948231",
   "metadata": {},
   "source": [
    "## 히스토그램 기반 그레이디언트 부스팅"
   ]
  },
  {
   "cell_type": "code",
   "execution_count": 39,
   "id": "49ff03de",
   "metadata": {},
   "outputs": [
    {
     "name": "stdout",
     "output_type": "stream",
     "text": [
      "훈련모델 결과: 0.9397268777157045\n",
      "테스트 결과: 0.8882828282828283\n"
     ]
    }
   ],
   "source": [
    "from sklearn.ensemble import HistGradientBoostingClassifier\n",
    "\n",
    "hgb = HistGradientBoostingClassifier(random_state=42)\n",
    "scores = cross_validate(hgb, tr_in, tr_tar, return_train_score=True, n_jobs=-1)\n",
    "\n",
    "print('훈련모델 결과:', np.mean(scores['train_score'])) \n",
    "print('테스트 결과:', np.mean(scores['test_score']))"
   ]
  },
  {
   "cell_type": "markdown",
   "id": "2d6f2360",
   "metadata": {},
   "source": [
    "### 훈련 세트 특성 중요도 확인"
   ]
  },
  {
   "cell_type": "code",
   "execution_count": 40,
   "id": "839ec516",
   "metadata": {},
   "outputs": [
    {
     "data": {
      "text/plain": [
       "array([0.053125  , 0.20625   , 0.00892857, 0.01517857, 0.00133929,\n",
       "       0.003125  , 0.26830357, 0.03705357])"
      ]
     },
     "execution_count": 40,
     "metadata": {},
     "output_type": "execute_result"
    }
   ],
   "source": [
    "from sklearn.inspection import permutation_importance\n",
    "\n",
    "hgb.fit(tr_in, tr_tar)\n",
    "result = permutation_importance(hgb, tr_in, tr_tar, n_repeats=10,\n",
    "                                random_state=42, n_jobs=-1)\n",
    "result.importances_mean"
   ]
  },
  {
   "cell_type": "markdown",
   "id": "017393fd",
   "metadata": {},
   "source": [
    "### 테스트 세트 특성 중요도 확인"
   ]
  },
  {
   "cell_type": "code",
   "execution_count": 41,
   "id": "b6c4dea5",
   "metadata": {},
   "outputs": [
    {
     "data": {
      "text/plain": [
       "array([-0.008     ,  0.178     ,  0.03066667,  0.04      ,  0.03266667,\n",
       "        0.03666667,  0.252     ,  0.06666667])"
      ]
     },
     "execution_count": 41,
     "metadata": {},
     "output_type": "execute_result"
    }
   ],
   "source": [
    "result = permutation_importance(hgb, te_in, te_tar, n_repeats=10,\n",
    "                                random_state=42, n_jobs=-1)\n",
    "result.importances_mean"
   ]
  },
  {
   "cell_type": "markdown",
   "id": "7c4957f4",
   "metadata": {},
   "source": [
    "## 다중 회귀"
   ]
  },
  {
   "cell_type": "code",
   "execution_count": 42,
   "id": "a54e0744",
   "metadata": {},
   "outputs": [],
   "source": [
    "from sklearn.preprocessing import LabelEncoder\n",
    "\n",
    "lab_en = LabelEncoder()\n",
    "\n",
    "tr_tar_en = lab_en.fit_transform(tr_tar)\n",
    "te_tar_en = lab_en.transform(te_tar)"
   ]
  },
  {
   "cell_type": "code",
   "execution_count": 43,
   "id": "319e1ba4",
   "metadata": {},
   "outputs": [
    {
     "name": "stdout",
     "output_type": "stream",
     "text": [
      "훈련모델 결과: 0.2930833625616216\n",
      "테스트 결과: 0.40418060697113223\n"
     ]
    }
   ],
   "source": [
    "from sklearn.linear_model import LinearRegression\n",
    "\n",
    "lr = LinearRegression()\n",
    "lr.fit(tr_in, tr_tar_en)\n",
    "\n",
    "print('훈련모델 결과:', lr.score(tr_in, tr_tar_en))\n",
    "print('테스트 결과:', lr.score(te_in, te_tar_en))"
   ]
  },
  {
   "cell_type": "markdown",
   "id": "e5f00572",
   "metadata": {},
   "source": [
    "## 릿지 회귀"
   ]
  },
  {
   "cell_type": "code",
   "execution_count": 145,
   "id": "561a9820",
   "metadata": {},
   "outputs": [
    {
     "name": "stdout",
     "output_type": "stream",
     "text": [
      "훈련모델 결과: 0.29305206231739045\n",
      "테스트 결과: 0.40472302084957723\n"
     ]
    }
   ],
   "source": [
    "from sklearn.linear_model import Ridge\n",
    "\n",
    "rdg = Ridge()\n",
    "rdg.fit(tr_in, tr_tar_en)\n",
    "print('훈련모델 결과:', rdg.score(tr_in, tr_tar_en))\n",
    "print('테스트 결과:', rdg.score(te_in, te_tar_en))"
   ]
  },
  {
   "cell_type": "markdown",
   "id": "93a6b563",
   "metadata": {},
   "source": [
    "## 라쏘 회귀"
   ]
  },
  {
   "cell_type": "code",
   "execution_count": 146,
   "id": "0563a40d",
   "metadata": {},
   "outputs": [
    {
     "name": "stdout",
     "output_type": "stream",
     "text": [
      "훈련모델 결과: 0.1338627076545823\n",
      "테스트 결과: 0.15989869167126103\n"
     ]
    }
   ],
   "source": [
    "from sklearn.linear_model import Lasso\n",
    "ls = Lasso()\n",
    "ls.fit(tr_in, tr_tar_en)\n",
    "\n",
    "print('훈련모델 결과:', ls.score(tr_in, tr_tar_en))\n",
    "print('테스트 결과:', ls.score(te_in, te_tar_en))"
   ]
  },
  {
   "cell_type": "markdown",
   "id": "91d24f3b",
   "metadata": {},
   "source": [
    "# 결과\n",
    "\n",
    "#### 이전에 활용했던 모델 중 10종류의 모델을 사용해 본 결과,\n",
    "\n",
    "#### 결정트리\n",
    "    - 훈련모델 결과: 0.9329608938547486\n",
    "    - 테스트 결과: 0.9111111111111111\n",
    "    - 결과 차이: 0.0218497827436375, 약 0.021\n",
    "\n",
    "#### 교차검증\n",
    "    - 훈련모델 결과: 0.9389857642480666\n",
    "    - 테스트 결과: 0.8610671936758892\n",
    "    - 결과 차이: 0.0779185705721774, 약 0.077\n",
    "\n",
    "#### 그리드서치\n",
    "    - 훈련모델 결과: 0.90625\n",
    "    - 테스트 결과: 0.9133333333333333\n",
    "    - 결과 차이: -0.0070833333333333, 약 -0.007\n",
    "\n",
    "#### 랜덤 포레스트\n",
    "    - 훈련모델 결과: 0.9397268777157045\n",
    "    - 테스트 결과: 0.8927272727272728\n",
    "    - 결과 차이: 0.0469996049884317, 약 0.046\n",
    "\n",
    "#### 엑스트라 트리\n",
    "    - 훈련모델 결과: 0.9397268777157045\n",
    "    - 테스트 결과: 0.8705050505050504\n",
    "    - 결과 차이: 0.0692218272106541, 약 0.069\n",
    "\n",
    "#### 그레이디언트 부스팅\n",
    "    - 훈련모델 결과: 0.9397268777157045\n",
    "    - 테스트 결과: 0.8928282828282829\n",
    "    - 결과 차이: 0.0468985948874216, 약 0.046\n",
    "\n",
    "#### 학습률 조정값\n",
    "    - 훈련모델 결과: 0.9397268777157045\n",
    "    - 테스트 결과: 0.883939393939394\n",
    "    - 결과 차이: 0.0557874837763105, 약 0.055\n",
    "\n",
    "#### 히스토그램 기반 그레이디언트 부스팅\n",
    "    - 훈련모델 결과: 0.9397268777157045\n",
    "    - 테스트 결과: 0.8882828282828283\n",
    "    - 결과 차이: 0.0514440494328762, 약 0.051\n",
    "\n",
    "#### 다중 회귀\n",
    "    - 훈련모델 결과: 0.2930833625616216\n",
    "    - 테스트 결과: 0.40418060697113223\n",
    "    - 결과 차이: -0.1110972444095106, 약 -0.111\n",
    "\n",
    "#### 릿지 회귀\n",
    "    - 훈련모델 결과: 0.29305206231739045\n",
    "    - 테스트 결과: 0.40472302084957723\n",
    "    - 결과 차이: -0.1116709585321868, 약 -0.111\n",
    "\n",
    "#### 라쏘 회귀\n",
    "    - 훈련모델 결과: 0.1338627076545823\n",
    "    - 테스트 결과: 0.15989869167126103\n",
    "    - 결과 차이: -0.0260359840166787, 약 -0.026\n",
    "\n",
    "- 모델들의 각각 결과 차이를 보면 -0.007로 그리드 서치의 결과값이 가장 근접하며, \n",
    "- 다중 회귀와 릿지 회귀의 결과값이 -0.111 로 서로 비슷하지만,\n",
    "- 근소한 차이로 릿지 회귀의 훈련모델과 테스트모델의 결과값이 먼 것을 알 수 있다.\n",
    "- 또한, 다중 회귀, 릿지 회귀, 라쏘 회귀의 결과값들이 낮은 것을 볼 수 있다."
   ]
  }
 ],
 "metadata": {
  "kernelspec": {
   "display_name": "Python 3 (ipykernel)",
   "language": "python",
   "name": "python3"
  },
  "language_info": {
   "codemirror_mode": {
    "name": "ipython",
    "version": 3
   },
   "file_extension": ".py",
   "mimetype": "text/x-python",
   "name": "python",
   "nbconvert_exporter": "python",
   "pygments_lexer": "ipython3",
   "version": "3.10.9"
  }
 },
 "nbformat": 4,
 "nbformat_minor": 5
}

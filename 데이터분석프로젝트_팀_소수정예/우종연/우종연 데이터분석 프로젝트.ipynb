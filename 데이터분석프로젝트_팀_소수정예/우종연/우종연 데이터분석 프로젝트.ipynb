{
 "cells": [
  {
   "cell_type": "markdown",
   "id": "ad70b291",
   "metadata": {},
   "source": [
    "# 데이터 분석 프로젝트\n",
    "\n",
    "##### 공통 진행\n",
    "- 문제 파악하기\n",
    "- 데이터 수집 또는 준비\n",
    "- EDA 탐색적 자료 분석\n",
    "\n",
    "##### 개별 진행\n",
    "- 데이터 전처리\n",
    "- 데이터 분석\n",
    "- 머신 러닝 모델링\n",
    "- 결과 분석 및 보고서 작성 후 제출 (개인별 강의 평가자료에 활용)\n",
    "- 모든 작업 내용 팀원간 공유 및 피드백 적극 활용\n",
    "\n",
    "##### 결과 발표\n",
    "- 팀원 모두의 결과를 취합하여 포트폴리오 작성 후 제출\n",
    "   (팀 포트폴리오 자료 및 발표자료)\n",
    " - 발표자료 준비하여 발표"
   ]
  },
  {
   "cell_type": "code",
   "execution_count": 347,
   "id": "6dd4591a",
   "metadata": {
    "scrolled": false
   },
   "outputs": [
    {
     "data": {
      "text/html": [
       "<div>\n",
       "<style scoped>\n",
       "    .dataframe tbody tr th:only-of-type {\n",
       "        vertical-align: middle;\n",
       "    }\n",
       "\n",
       "    .dataframe tbody tr th {\n",
       "        vertical-align: top;\n",
       "    }\n",
       "\n",
       "    .dataframe thead th {\n",
       "        text-align: right;\n",
       "    }\n",
       "</style>\n",
       "<table border=\"1\" class=\"dataframe\">\n",
       "  <thead>\n",
       "    <tr style=\"text-align: right;\">\n",
       "      <th></th>\n",
       "      <th>Person ID</th>\n",
       "      <th>Gender</th>\n",
       "      <th>Age</th>\n",
       "      <th>Occupation</th>\n",
       "      <th>Sleep Duration</th>\n",
       "      <th>Quality of Sleep</th>\n",
       "      <th>Physical Activity Level</th>\n",
       "      <th>Stress Level</th>\n",
       "      <th>BMI Category</th>\n",
       "      <th>Blood Pressure</th>\n",
       "      <th>Heart Rate</th>\n",
       "      <th>Daily Steps</th>\n",
       "      <th>Sleep Disorder</th>\n",
       "    </tr>\n",
       "  </thead>\n",
       "  <tbody>\n",
       "    <tr>\n",
       "      <th>0</th>\n",
       "      <td>1</td>\n",
       "      <td>Male</td>\n",
       "      <td>27</td>\n",
       "      <td>Software Engineer</td>\n",
       "      <td>6.1</td>\n",
       "      <td>6</td>\n",
       "      <td>42</td>\n",
       "      <td>6</td>\n",
       "      <td>Overweight</td>\n",
       "      <td>126/83</td>\n",
       "      <td>77</td>\n",
       "      <td>4200</td>\n",
       "      <td>None</td>\n",
       "    </tr>\n",
       "    <tr>\n",
       "      <th>1</th>\n",
       "      <td>2</td>\n",
       "      <td>Male</td>\n",
       "      <td>28</td>\n",
       "      <td>Doctor</td>\n",
       "      <td>6.2</td>\n",
       "      <td>6</td>\n",
       "      <td>60</td>\n",
       "      <td>8</td>\n",
       "      <td>Normal</td>\n",
       "      <td>125/80</td>\n",
       "      <td>75</td>\n",
       "      <td>10000</td>\n",
       "      <td>None</td>\n",
       "    </tr>\n",
       "    <tr>\n",
       "      <th>2</th>\n",
       "      <td>3</td>\n",
       "      <td>Male</td>\n",
       "      <td>28</td>\n",
       "      <td>Doctor</td>\n",
       "      <td>6.2</td>\n",
       "      <td>6</td>\n",
       "      <td>60</td>\n",
       "      <td>8</td>\n",
       "      <td>Normal</td>\n",
       "      <td>125/80</td>\n",
       "      <td>75</td>\n",
       "      <td>10000</td>\n",
       "      <td>None</td>\n",
       "    </tr>\n",
       "    <tr>\n",
       "      <th>3</th>\n",
       "      <td>4</td>\n",
       "      <td>Male</td>\n",
       "      <td>28</td>\n",
       "      <td>Sales Representative</td>\n",
       "      <td>5.9</td>\n",
       "      <td>4</td>\n",
       "      <td>30</td>\n",
       "      <td>8</td>\n",
       "      <td>Obese</td>\n",
       "      <td>140/90</td>\n",
       "      <td>85</td>\n",
       "      <td>3000</td>\n",
       "      <td>Sleep Apnea</td>\n",
       "    </tr>\n",
       "    <tr>\n",
       "      <th>4</th>\n",
       "      <td>5</td>\n",
       "      <td>Male</td>\n",
       "      <td>28</td>\n",
       "      <td>Sales Representative</td>\n",
       "      <td>5.9</td>\n",
       "      <td>4</td>\n",
       "      <td>30</td>\n",
       "      <td>8</td>\n",
       "      <td>Obese</td>\n",
       "      <td>140/90</td>\n",
       "      <td>85</td>\n",
       "      <td>3000</td>\n",
       "      <td>Sleep Apnea</td>\n",
       "    </tr>\n",
       "  </tbody>\n",
       "</table>\n",
       "</div>"
      ],
      "text/plain": [
       "   Person ID Gender  Age            Occupation  Sleep Duration  \\\n",
       "0          1   Male   27     Software Engineer             6.1   \n",
       "1          2   Male   28                Doctor             6.2   \n",
       "2          3   Male   28                Doctor             6.2   \n",
       "3          4   Male   28  Sales Representative             5.9   \n",
       "4          5   Male   28  Sales Representative             5.9   \n",
       "\n",
       "   Quality of Sleep  Physical Activity Level  Stress Level BMI Category  \\\n",
       "0                 6                       42             6   Overweight   \n",
       "1                 6                       60             8       Normal   \n",
       "2                 6                       60             8       Normal   \n",
       "3                 4                       30             8        Obese   \n",
       "4                 4                       30             8        Obese   \n",
       "\n",
       "  Blood Pressure  Heart Rate  Daily Steps Sleep Disorder  \n",
       "0         126/83          77         4200           None  \n",
       "1         125/80          75        10000           None  \n",
       "2         125/80          75        10000           None  \n",
       "3         140/90          85         3000    Sleep Apnea  \n",
       "4         140/90          85         3000    Sleep Apnea  "
      ]
     },
     "execution_count": 347,
     "metadata": {},
     "output_type": "execute_result"
    }
   ],
   "source": [
    "import pandas as pd\n",
    "import numpy as np\n",
    "import matplotlib.pyplot as plt\n",
    "\n",
    "sh = pd.read_csv('Sleep_health.csv')\n",
    "sh.head()"
   ]
  },
  {
   "cell_type": "code",
   "execution_count": 348,
   "id": "89a47bc6",
   "metadata": {},
   "outputs": [],
   "source": [
    "sh_in = sh[['Age', 'Sleep Duration', 'Quality of Sleep', 'Physical Activity Level',\n",
    "            'Stress Level', 'Heart Rate', 'Daily Steps']].to_numpy()\n",
    "\n",
    "sh_tar = sh['Sleep Disorder'].to_numpy()"
   ]
  },
  {
   "cell_type": "markdown",
   "id": "c3909f17",
   "metadata": {},
   "source": [
    "## 시각화"
   ]
  },
  {
   "cell_type": "code",
   "execution_count": 431,
   "id": "c5dbb434",
   "metadata": {},
   "outputs": [
    {
     "name": "stderr",
     "output_type": "stream",
     "text": [
      "C:\\Users\\jongyeon.woo\\AppData\\Local\\Temp\\ipykernel_3576\\161992253.py:4: FutureWarning: The default value of numeric_only in DataFrame.corr is deprecated. In a future version, it will default to False. Select only valid columns or specify the value of numeric_only to silence this warning.\n",
      "  sns.heatmap(sh.corr(), annot=True, cmap='coolwarm', fmt='.2f')\n"
     ]
    },
    {
     "data": {
      "image/png": "[encoded data removed]",
      "text/plain": [
       "<Figure size 640x480 with 2 Axes>"
      ]
     },
     "metadata": {},
     "output_type": "display_data"
    }
   ],
   "source": [
    "import matplotlib.pyplot as plt\n",
    "import seaborn as sns\n",
    "\n",
    "sns.heatmap(sh.corr(), annot=True, cmap='coolwarm', fmt='.2f')\n",
    "plt.title('Sleep Health and Lifestyle')\n",
    "plt.show()"
   ]
  },
  {
   "cell_type": "markdown",
   "id": "bc0bd643",
   "metadata": {},
   "source": [
    "## 데이터 나누기"
   ]
  },
  {
   "cell_type": "code",
   "execution_count": 349,
   "id": "94e90893",
   "metadata": {},
   "outputs": [],
   "source": [
    "from sklearn.model_selection import train_test_split\n",
    "\n",
    "tr_in, te_in, tr_tar, te_tar = train_test_split(\n",
    "            sh_in, sh_tar, test_size = 0.4, random_state = 45)"
   ]
  },
  {
   "cell_type": "code",
   "execution_count": 350,
   "id": "13b77081",
   "metadata": {},
   "outputs": [],
   "source": [
    "tr_s, te_s, tr_val, te_val = train_test_split(\n",
    "        tr_in, tr_tar, test_size = 0.2, random_state = 42)"
   ]
  },
  {
   "cell_type": "markdown",
   "id": "77574cc9",
   "metadata": {},
   "source": [
    "## 결정트리"
   ]
  },
  {
   "cell_type": "code",
   "execution_count": 351,
   "id": "bd068a2c",
   "metadata": {},
   "outputs": [
    {
     "name": "stdout",
     "output_type": "stream",
     "text": [
      "훈련모델 결과: 0.9329608938547486\n",
      "테스트 결과: 0.8444444444444444\n"
     ]
    }
   ],
   "source": [
    "from sklearn.tree import DecisionTreeClassifier\n",
    "\n",
    "dt = DecisionTreeClassifier(random_state = 42)\n",
    "dt.fit(tr_s, tr_val)\n",
    "\n",
    "print('훈련모델 결과:', dt.score(tr_s, tr_val))\n",
    "print('테스트 결과:', dt.score(te_s, te_val))"
   ]
  },
  {
   "cell_type": "markdown",
   "id": "8dd880e5",
   "metadata": {},
   "source": [
    "## 교차검증"
   ]
  },
  {
   "cell_type": "code",
   "execution_count": 352,
   "id": "0a73e07f",
   "metadata": {},
   "outputs": [],
   "source": [
    "from sklearn.model_selection import train_test_split\n",
    "\n",
    "tr_in, te_in, tr_tar, te_tar = train_test_split(\n",
    "            sh_in, sh_tar, test_size = 0.2, random_state = 42)"
   ]
  },
  {
   "cell_type": "code",
   "execution_count": 353,
   "id": "82b993e8",
   "metadata": {},
   "outputs": [],
   "source": [
    "from sklearn.tree import DecisionTreeClassifier\n",
    "\n",
    "dt = DecisionTreeClassifier(random_state = 42)"
   ]
  },
  {
   "cell_type": "code",
   "execution_count": 354,
   "id": "ff11d269",
   "metadata": {},
   "outputs": [
    {
     "data": {
      "text/plain": [
       "{'fit_time': array([0.00398779, 0.00298977, 0.00299263, 0.00199389, 0.00199389,\n",
       "        0.00199461, 0.00199556, 0.00099659, 0.00099754, 0.00199485]),\n",
       " 'score_time': array([0.00199103, 0.00199533, 0.00099635, 0.00099826, 0.        ,\n",
       "        0.0009973 , 0.00099802, 0.0009973 , 0.        , 0.        ]),\n",
       " 'test_score': array([0.9       , 0.86666667, 0.86666667, 0.9       , 0.93333333,\n",
       "        0.86666667, 0.96666667, 0.9       , 0.86666667, 0.93103448]),\n",
       " 'train_score': array([0.9330855 , 0.94052045, 0.93680297, 0.9330855 , 0.92936803,\n",
       "        0.92936803, 0.92565056, 0.9330855 , 0.94052045, 0.93333333])}"
      ]
     },
     "execution_count": 354,
     "metadata": {},
     "output_type": "execute_result"
    }
   ],
   "source": [
    "from sklearn.model_selection import cross_validate, StratifiedKFold\n",
    " \n",
    "splitter = StratifiedKFold(n_splits = 10, shuffle = True, random_state = 42)\n",
    "    \n",
    "scores = cross_validate(dt, tr_in, tr_tar, return_train_score=True, cv=splitter)\n",
    "scores"
   ]
  },
  {
   "cell_type": "code",
   "execution_count": 345,
   "id": "a1b7f95b",
   "metadata": {},
   "outputs": [
    {
     "name": "stdout",
     "output_type": "stream",
     "text": [
      "훈련모델 결과: 0.9334820322180917\n",
      "테스트 결과: 0.8997701149425288\n"
     ]
    }
   ],
   "source": [
    "print('훈련모델 결과:', np.mean(scores['train_score']))\n",
    "print('테스트 결과:', np.mean(scores['test_score']))"
   ]
  },
  {
   "cell_type": "markdown",
   "id": "2abcb204",
   "metadata": {},
   "source": [
    "## 그리드서치"
   ]
  },
  {
   "cell_type": "code",
   "execution_count": 364,
   "id": "6dd65c80",
   "metadata": {},
   "outputs": [
    {
     "data": {
      "text/html": [
       "<style>#sk-container-id-1 {color: black;background-color: white;}#sk-container-id-1 pre{padding: 0;}#sk-container-id-1 div.sk-toggleable {background-color: white;}#sk-container-id-1 label.sk-toggleable__label {cursor: pointer;display: block;width: 100%;margin-bottom: 0;padding: 0.3em;box-sizing: border-box;text-align: center;}#sk-container-id-1 label.sk-toggleable__label-arrow:before {content: \"▸\";float: left;margin-right: 0.25em;color: #696969;}#sk-container-id-1 label.sk-toggleable__label-arrow:hover:before {color: black;}#sk-container-id-1 div.sk-estimator:hover label.sk-toggleable__label-arrow:before {color: black;}#sk-container-id-1 div.sk-toggleable__content {max-height: 0;max-width: 0;overflow: hidden;text-align: left;background-color: #f0f8ff;}#sk-container-id-1 div.sk-toggleable__content pre {margin: 0.2em;color: black;border-radius: 0.25em;background-color: #f0f8ff;}#sk-container-id-1 input.sk-toggleable__control:checked~div.sk-toggleable__content {max-height: 200px;max-width: 100%;overflow: auto;}#sk-container-id-1 input.sk-toggleable__control:checked~label.sk-toggleable__label-arrow:before {content: \"▾\";}#sk-container-id-1 div.sk-estimator input.sk-toggleable__control:checked~label.sk-toggleable__label {background-color: #d4ebff;}#sk-container-id-1 div.sk-label input.sk-toggleable__control:checked~label.sk-toggleable__label {background-color: #d4ebff;}#sk-container-id-1 input.sk-hidden--visually {border: 0;clip: rect(1px 1px 1px 1px);clip: rect(1px, 1px, 1px, 1px);height: 1px;margin: -1px;overflow: hidden;padding: 0;position: absolute;width: 1px;}#sk-container-id-1 div.sk-estimator {font-family: monospace;background-color: #f0f8ff;border: 1px dotted black;border-radius: 0.25em;box-sizing: border-box;margin-bottom: 0.5em;}#sk-container-id-1 div.sk-estimator:hover {background-color: #d4ebff;}#sk-container-id-1 div.sk-parallel-item::after {content: \"\";width: 100%;border-bottom: 1px solid gray;flex-grow: 1;}#sk-container-id-1 div.sk-label:hover label.sk-toggleable__label {background-color: #d4ebff;}#sk-container-id-1 div.sk-serial::before {content: \"\";position: absolute;border-left: 1px solid gray;box-sizing: border-box;top: 0;bottom: 0;left: 50%;z-index: 0;}#sk-container-id-1 div.sk-serial {display: flex;flex-direction: column;align-items: center;background-color: white;padding-right: 0.2em;padding-left: 0.2em;position: relative;}#sk-container-id-1 div.sk-item {position: relative;z-index: 1;}#sk-container-id-1 div.sk-parallel {display: flex;align-items: stretch;justify-content: center;background-color: white;position: relative;}#sk-container-id-1 div.sk-item::before, #sk-container-id-1 div.sk-parallel-item::before {content: \"\";position: absolute;border-left: 1px solid gray;box-sizing: border-box;top: 0;bottom: 0;left: 50%;z-index: -1;}#sk-container-id-1 div.sk-parallel-item {display: flex;flex-direction: column;z-index: 1;position: relative;background-color: white;}#sk-container-id-1 div.sk-parallel-item:first-child::after {align-self: flex-end;width: 50%;}#sk-container-id-1 div.sk-parallel-item:last-child::after {align-self: flex-start;width: 50%;}#sk-container-id-1 div.sk-parallel-item:only-child::after {width: 0;}#sk-container-id-1 div.sk-dashed-wrapped {border: 1px dashed gray;margin: 0 0.4em 0.5em 0.4em;box-sizing: border-box;padding-bottom: 0.4em;background-color: white;}#sk-container-id-1 div.sk-label label {font-family: monospace;font-weight: bold;display: inline-block;line-height: 1.2em;}#sk-container-id-1 div.sk-label-container {text-align: center;}#sk-container-id-1 div.sk-container {/* jupyter's `normalize.less` sets `[hidden] { display: none; }` but bootstrap.min.css set `[hidden] { display: none !important; }` so we also need the `!important` here to be able to override the default hidden behavior on the sphinx rendered scikit-learn.org. See: https://github.com/scikit-learn/scikit-learn/issues/21755 */display: inline-block !important;position: relative;}#sk-container-id-1 div.sk-text-repr-fallback {display: none;}</style><div id=\"sk-container-id-1\" class=\"sk-top-container\"><div class=\"sk-text-repr-fallback\"><pre>GridSearchCV(estimator=DecisionTreeClassifier(random_state=42), n_jobs=-1,\n",
       "             param_grid={&#x27;min_impurity_decrease&#x27;: [0.0001, 0.0002, 0.0003,\n",
       "                                                   0.0004, 0.0005]})</pre><b>In a Jupyter environment, please rerun this cell to show the HTML representation or trust the notebook. <br />On GitHub, the HTML representation is unable to render, please try loading this page with nbviewer.org.</b></div><div class=\"sk-container\" hidden><div class=\"sk-item sk-dashed-wrapped\"><div class=\"sk-label-container\"><div class=\"sk-label sk-toggleable\"><input class=\"sk-toggleable__control sk-hidden--visually\" id=\"sk-estimator-id-1\" type=\"checkbox\" ><label for=\"sk-estimator-id-1\" class=\"sk-toggleable__label sk-toggleable__label-arrow\">GridSearchCV</label><div class=\"sk-toggleable__content\"><pre>GridSearchCV(estimator=DecisionTreeClassifier(random_state=42), n_jobs=-1,\n",
       "             param_grid={&#x27;min_impurity_decrease&#x27;: [0.0001, 0.0002, 0.0003,\n",
       "                                                   0.0004, 0.0005]})</pre></div></div></div><div class=\"sk-parallel\"><div class=\"sk-parallel-item\"><div class=\"sk-item\"><div class=\"sk-label-container\"><div class=\"sk-label sk-toggleable\"><input class=\"sk-toggleable__control sk-hidden--visually\" id=\"sk-estimator-id-2\" type=\"checkbox\" ><label for=\"sk-estimator-id-2\" class=\"sk-toggleable__label sk-toggleable__label-arrow\">estimator: DecisionTreeClassifier</label><div class=\"sk-toggleable__content\"><pre>DecisionTreeClassifier(random_state=42)</pre></div></div></div><div class=\"sk-serial\"><div class=\"sk-item\"><div class=\"sk-estimator sk-toggleable\"><input class=\"sk-toggleable__control sk-hidden--visually\" id=\"sk-estimator-id-3\" type=\"checkbox\" ><label for=\"sk-estimator-id-3\" class=\"sk-toggleable__label sk-toggleable__label-arrow\">DecisionTreeClassifier</label><div class=\"sk-toggleable__content\"><pre>DecisionTreeClassifier(random_state=42)</pre></div></div></div></div></div></div></div></div></div></div>"
      ],
      "text/plain": [
       "GridSearchCV(estimator=DecisionTreeClassifier(random_state=42), n_jobs=-1,\n",
       "             param_grid={'min_impurity_decrease': [0.0001, 0.0002, 0.0003,\n",
       "                                                   0.0004, 0.0005]})"
      ]
     },
     "execution_count": 364,
     "metadata": {},
     "output_type": "execute_result"
    }
   ],
   "source": [
    "from sklearn.tree import DecisionTreeClassifier\n",
    "from sklearn.model_selection import GridSearchCV\n",
    "\n",
    "par = {'min_impurity_decrease': [0.0001, 0.0002, 0.0003, 0.0004, 0.0005]}\n",
    "\n",
    "gs = GridSearchCV(DecisionTreeClassifier(random_state=42), par, n_jobs=-1)\n",
    "gs.fit(tr_in, tr_tar)"
   ]
  },
  {
   "cell_type": "code",
   "execution_count": 366,
   "id": "418c32a2",
   "metadata": {},
   "outputs": [
    {
     "data": {
      "text/plain": [
       "0.9331103678929766"
      ]
     },
     "execution_count": 366,
     "metadata": {},
     "output_type": "execute_result"
    }
   ],
   "source": [
    "dt = gs.best_estimator_\n",
    "dt.score(tr_in, tr_tar)"
   ]
  },
  {
   "cell_type": "code",
   "execution_count": 368,
   "id": "22707015",
   "metadata": {},
   "outputs": [
    {
     "data": {
      "text/plain": [
       "{'min_impurity_decrease': 0.0003}"
      ]
     },
     "execution_count": 368,
     "metadata": {},
     "output_type": "execute_result"
    }
   ],
   "source": [
    "gs.best_params_"
   ]
  },
  {
   "cell_type": "code",
   "execution_count": 369,
   "id": "522c4dca",
   "metadata": {},
   "outputs": [
    {
     "data": {
      "text/plain": [
       "array([0.85960452, 0.86960452, 0.87627119, 0.87627119, 0.87627119])"
      ]
     },
     "execution_count": 369,
     "metadata": {},
     "output_type": "execute_result"
    }
   ],
   "source": [
    "gs.cv_results_['mean_test_score']"
   ]
  },
  {
   "cell_type": "code",
   "execution_count": 370,
   "id": "3d2aa0b1",
   "metadata": {},
   "outputs": [
    {
     "data": {
      "text/plain": [
       "{'min_impurity_decrease': 0.0003}"
      ]
     },
     "execution_count": 370,
     "metadata": {},
     "output_type": "execute_result"
    }
   ],
   "source": [
    "best_idx = np.argmax(gs.cv_results_['mean_test_score'])\n",
    "gs.cv_results_['params'][best_idx]"
   ]
  },
  {
   "cell_type": "code",
   "execution_count": 372,
   "id": "a7f4d516",
   "metadata": {},
   "outputs": [
    {
     "data": {
      "text/html": [
       "<style>#sk-container-id-2 {color: black;background-color: white;}#sk-container-id-2 pre{padding: 0;}#sk-container-id-2 div.sk-toggleable {background-color: white;}#sk-container-id-2 label.sk-toggleable__label {cursor: pointer;display: block;width: 100%;margin-bottom: 0;padding: 0.3em;box-sizing: border-box;text-align: center;}#sk-container-id-2 label.sk-toggleable__label-arrow:before {content: \"▸\";float: left;margin-right: 0.25em;color: #696969;}#sk-container-id-2 label.sk-toggleable__label-arrow:hover:before {color: black;}#sk-container-id-2 div.sk-estimator:hover label.sk-toggleable__label-arrow:before {color: black;}#sk-container-id-2 div.sk-toggleable__content {max-height: 0;max-width: 0;overflow: hidden;text-align: left;background-color: #f0f8ff;}#sk-container-id-2 div.sk-toggleable__content pre {margin: 0.2em;color: black;border-radius: 0.25em;background-color: #f0f8ff;}#sk-container-id-2 input.sk-toggleable__control:checked~div.sk-toggleable__content {max-height: 200px;max-width: 100%;overflow: auto;}#sk-container-id-2 input.sk-toggleable__control:checked~label.sk-toggleable__label-arrow:before {content: \"▾\";}#sk-container-id-2 div.sk-estimator input.sk-toggleable__control:checked~label.sk-toggleable__label {background-color: #d4ebff;}#sk-container-id-2 div.sk-label input.sk-toggleable__control:checked~label.sk-toggleable__label {background-color: #d4ebff;}#sk-container-id-2 input.sk-hidden--visually {border: 0;clip: rect(1px 1px 1px 1px);clip: rect(1px, 1px, 1px, 1px);height: 1px;margin: -1px;overflow: hidden;padding: 0;position: absolute;width: 1px;}#sk-container-id-2 div.sk-estimator {font-family: monospace;background-color: #f0f8ff;border: 1px dotted black;border-radius: 0.25em;box-sizing: border-box;margin-bottom: 0.5em;}#sk-container-id-2 div.sk-estimator:hover {background-color: #d4ebff;}#sk-container-id-2 div.sk-parallel-item::after {content: \"\";width: 100%;border-bottom: 1px solid gray;flex-grow: 1;}#sk-container-id-2 div.sk-label:hover label.sk-toggleable__label {background-color: #d4ebff;}#sk-container-id-2 div.sk-serial::before {content: \"\";position: absolute;border-left: 1px solid gray;box-sizing: border-box;top: 0;bottom: 0;left: 50%;z-index: 0;}#sk-container-id-2 div.sk-serial {display: flex;flex-direction: column;align-items: center;background-color: white;padding-right: 0.2em;padding-left: 0.2em;position: relative;}#sk-container-id-2 div.sk-item {position: relative;z-index: 1;}#sk-container-id-2 div.sk-parallel {display: flex;align-items: stretch;justify-content: center;background-color: white;position: relative;}#sk-container-id-2 div.sk-item::before, #sk-container-id-2 div.sk-parallel-item::before {content: \"\";position: absolute;border-left: 1px solid gray;box-sizing: border-box;top: 0;bottom: 0;left: 50%;z-index: -1;}#sk-container-id-2 div.sk-parallel-item {display: flex;flex-direction: column;z-index: 1;position: relative;background-color: white;}#sk-container-id-2 div.sk-parallel-item:first-child::after {align-self: flex-end;width: 50%;}#sk-container-id-2 div.sk-parallel-item:last-child::after {align-self: flex-start;width: 50%;}#sk-container-id-2 div.sk-parallel-item:only-child::after {width: 0;}#sk-container-id-2 div.sk-dashed-wrapped {border: 1px dashed gray;margin: 0 0.4em 0.5em 0.4em;box-sizing: border-box;padding-bottom: 0.4em;background-color: white;}#sk-container-id-2 div.sk-label label {font-family: monospace;font-weight: bold;display: inline-block;line-height: 1.2em;}#sk-container-id-2 div.sk-label-container {text-align: center;}#sk-container-id-2 div.sk-container {/* jupyter's `normalize.less` sets `[hidden] { display: none; }` but bootstrap.min.css set `[hidden] { display: none !important; }` so we also need the `!important` here to be able to override the default hidden behavior on the sphinx rendered scikit-learn.org. See: https://github.com/scikit-learn/scikit-learn/issues/21755 */display: inline-block !important;position: relative;}#sk-container-id-2 div.sk-text-repr-fallback {display: none;}</style><div id=\"sk-container-id-2\" class=\"sk-top-container\"><div class=\"sk-text-repr-fallback\"><pre>RandomizedSearchCV(estimator=DecisionTreeClassifier(random_state=42),\n",
       "                   n_iter=100, n_jobs=-1,\n",
       "                   param_distributions={&#x27;max_depth&#x27;: &lt;scipy.stats._distn_infrastructure.rv_discrete_frozen object at 0x000002CFFA5EC820&gt;,\n",
       "                                        &#x27;min_impurity_decrease&#x27;: &lt;scipy.stats._distn_infrastructure.rv_continuous_frozen object at 0x000002CFFA536D10&gt;,\n",
       "                                        &#x27;min_samples_leaf&#x27;: &lt;scipy.stats._distn_infrastructure.rv_discrete_frozen object at 0x000002CFFA5EEFB0&gt;,\n",
       "                                        &#x27;min_samples_split&#x27;: &lt;scipy.stats._distn_infrastructure.rv_discrete_frozen object at 0x000002CFFA5ECAF0&gt;},\n",
       "                   random_state=42)</pre><b>In a Jupyter environment, please rerun this cell to show the HTML representation or trust the notebook. <br />On GitHub, the HTML representation is unable to render, please try loading this page with nbviewer.org.</b></div><div class=\"sk-container\" hidden><div class=\"sk-item sk-dashed-wrapped\"><div class=\"sk-label-container\"><div class=\"sk-label sk-toggleable\"><input class=\"sk-toggleable__control sk-hidden--visually\" id=\"sk-estimator-id-4\" type=\"checkbox\" ><label for=\"sk-estimator-id-4\" class=\"sk-toggleable__label sk-toggleable__label-arrow\">RandomizedSearchCV</label><div class=\"sk-toggleable__content\"><pre>RandomizedSearchCV(estimator=DecisionTreeClassifier(random_state=42),\n",
       "                   n_iter=100, n_jobs=-1,\n",
       "                   param_distributions={&#x27;max_depth&#x27;: &lt;scipy.stats._distn_infrastructure.rv_discrete_frozen object at 0x000002CFFA5EC820&gt;,\n",
       "                                        &#x27;min_impurity_decrease&#x27;: &lt;scipy.stats._distn_infrastructure.rv_continuous_frozen object at 0x000002CFFA536D10&gt;,\n",
       "                                        &#x27;min_samples_leaf&#x27;: &lt;scipy.stats._distn_infrastructure.rv_discrete_frozen object at 0x000002CFFA5EEFB0&gt;,\n",
       "                                        &#x27;min_samples_split&#x27;: &lt;scipy.stats._distn_infrastructure.rv_discrete_frozen object at 0x000002CFFA5ECAF0&gt;},\n",
       "                   random_state=42)</pre></div></div></div><div class=\"sk-parallel\"><div class=\"sk-parallel-item\"><div class=\"sk-item\"><div class=\"sk-label-container\"><div class=\"sk-label sk-toggleable\"><input class=\"sk-toggleable__control sk-hidden--visually\" id=\"sk-estimator-id-5\" type=\"checkbox\" ><label for=\"sk-estimator-id-5\" class=\"sk-toggleable__label sk-toggleable__label-arrow\">estimator: DecisionTreeClassifier</label><div class=\"sk-toggleable__content\"><pre>DecisionTreeClassifier(random_state=42)</pre></div></div></div><div class=\"sk-serial\"><div class=\"sk-item\"><div class=\"sk-estimator sk-toggleable\"><input class=\"sk-toggleable__control sk-hidden--visually\" id=\"sk-estimator-id-6\" type=\"checkbox\" ><label for=\"sk-estimator-id-6\" class=\"sk-toggleable__label sk-toggleable__label-arrow\">DecisionTreeClassifier</label><div class=\"sk-toggleable__content\"><pre>DecisionTreeClassifier(random_state=42)</pre></div></div></div></div></div></div></div></div></div></div>"
      ],
      "text/plain": [
       "RandomizedSearchCV(estimator=DecisionTreeClassifier(random_state=42),\n",
       "                   n_iter=100, n_jobs=-1,\n",
       "                   param_distributions={'max_depth': <scipy.stats._distn_infrastructure.rv_discrete_frozen object at 0x000002CFFA5EC820>,\n",
       "                                        'min_impurity_decrease': <scipy.stats._distn_infrastructure.rv_continuous_frozen object at 0x000002CFFA536D10>,\n",
       "                                        'min_samples_leaf': <scipy.stats._distn_infrastructure.rv_discrete_frozen object at 0x000002CFFA5EEFB0>,\n",
       "                                        'min_samples_split': <scipy.stats._distn_infrastructure.rv_discrete_frozen object at 0x000002CFFA5ECAF0>},\n",
       "                   random_state=42)"
      ]
     },
     "execution_count": 372,
     "metadata": {},
     "output_type": "execute_result"
    }
   ],
   "source": [
    "from sklearn.model_selection import RandomizedSearchCV\n",
    "from scipy.stats import uniform, randint\n",
    "\n",
    "par = {'min_impurity_decrease': uniform(0.0001, 0.001),\n",
    "      'max_depth': randint(20, 50),\n",
    "      'min_samples_split': randint(2, 25),\n",
    "      'min_samples_leaf': randint(1, 25),\n",
    "      }\n",
    "\n",
    "gs = RandomizedSearchCV(DecisionTreeClassifier(random_state = 42), par,\n",
    "                       n_iter = 100, n_jobs = -1, random_state = 42)\n",
    "gs.fit(tr_in, tr_tar)"
   ]
  },
  {
   "cell_type": "code",
   "execution_count": 373,
   "id": "4737dcca",
   "metadata": {},
   "outputs": [
    {
     "data": {
      "text/plain": [
       "{'max_depth': 26,\n",
       " 'min_impurity_decrease': 0.0010367299887367345,\n",
       " 'min_samples_leaf': 1,\n",
       " 'min_samples_split': 12}"
      ]
     },
     "execution_count": 373,
     "metadata": {},
     "output_type": "execute_result"
    }
   ],
   "source": [
    "gs.best_params_"
   ]
  },
  {
   "cell_type": "code",
   "execution_count": 374,
   "id": "ef42dbc7",
   "metadata": {},
   "outputs": [
    {
     "data": {
      "text/plain": [
       "0.8928813559322034"
      ]
     },
     "execution_count": 374,
     "metadata": {},
     "output_type": "execute_result"
    }
   ],
   "source": [
    "np.max(gs.cv_results_['mean_test_score'])"
   ]
  },
  {
   "cell_type": "code",
   "execution_count": 376,
   "id": "a2335784",
   "metadata": {},
   "outputs": [
    {
     "name": "stdout",
     "output_type": "stream",
     "text": [
      "훈련모델 결과: 0.9163879598662207\n",
      "테스트 결과: 0.8666666666666667\n"
     ]
    }
   ],
   "source": [
    "dt = gs.best_estimator_\n",
    "\n",
    "print('훈련모델 결과:', dt.score(tr_in, tr_tar))\n",
    "print('테스트 결과:', dt.score(te_in, te_tar))"
   ]
  },
  {
   "cell_type": "markdown",
   "id": "9022380d",
   "metadata": {},
   "source": [
    "## 랜덤 포레스트"
   ]
  },
  {
   "cell_type": "code",
   "execution_count": 394,
   "id": "8012d81f",
   "metadata": {},
   "outputs": [
    {
     "name": "stdout",
     "output_type": "stream",
     "text": [
      "훈련모델 결과: 0.9347803347280335\n",
      "테스트 결과: 0.9030508474576271\n"
     ]
    }
   ],
   "source": [
    "from sklearn.ensemble import RandomForestClassifier\n",
    "\n",
    "rf = RandomForestClassifier(n_jobs = -1, random_state = 42)\n",
    "scores = cross_validate(rf, tr_in, tr_tar, return_train_score=True, n_jobs = -1)\n",
    "\n",
    "print('훈련모델 결과:', np.mean(scores['train_score'])) \n",
    "print('테스트 결과:', np.mean(scores['test_score']))"
   ]
  },
  {
   "cell_type": "markdown",
   "id": "0034f897",
   "metadata": {},
   "source": [
    "### 랜덤 포레스트 자체 모델 평가 점수"
   ]
  },
  {
   "cell_type": "code",
   "execution_count": 405,
   "id": "ffdd7cec",
   "metadata": {},
   "outputs": [
    {
     "data": {
      "text/plain": [
       "0.9096989966555183"
      ]
     },
     "execution_count": 405,
     "metadata": {},
     "output_type": "execute_result"
    }
   ],
   "source": [
    "rf = RandomForestClassifier(oob_score=True, n_jobs=-1, random_state=42)\n",
    "\n",
    "rf.fit(tr_in, tr_tar)\n",
    "rf.oob_score_"
   ]
  },
  {
   "cell_type": "markdown",
   "id": "ceb566c4",
   "metadata": {},
   "source": [
    "### 랜덤 포레스트 특성 중요도 확인"
   ]
  },
  {
   "cell_type": "code",
   "execution_count": 408,
   "id": "3d00c10c",
   "metadata": {},
   "outputs": [
    {
     "data": {
      "text/plain": [
       "array([0.22610066, 0.26903094, 0.07691061, 0.12302514, 0.07664463,\n",
       "       0.11635183, 0.11193618])"
      ]
     },
     "execution_count": 408,
     "metadata": {},
     "output_type": "execute_result"
    }
   ],
   "source": [
    "rf.fit(tr_in, tr_tar)\n",
    "rf.feature_importances_"
   ]
  },
  {
   "cell_type": "markdown",
   "id": "f1d3f736",
   "metadata": {},
   "source": [
    "## 엑스트라 트리"
   ]
  },
  {
   "cell_type": "code",
   "execution_count": 402,
   "id": "bb384a21",
   "metadata": {},
   "outputs": [
    {
     "name": "stdout",
     "output_type": "stream",
     "text": [
      "훈련모델 결과: 0.9347803347280335\n",
      "테스트 결과: 0.8763276836158191\n"
     ]
    }
   ],
   "source": [
    "from sklearn.ensemble import ExtraTreesClassifier\n",
    "\n",
    "et = ExtraTreesClassifier(n_jobs = -1, random_state = 42)\n",
    "scores = cross_validate(et, tr_in, tr_tar, return_train_score=True, n_jobs = -1)\n",
    "\n",
    "print('훈련모델 결과:', np.mean(scores['train_score'])) \n",
    "print('테스트 결과:', np.mean(scores['test_score']))"
   ]
  },
  {
   "cell_type": "markdown",
   "id": "d10869c2",
   "metadata": {},
   "source": [
    "### 엑스트라 트리 특성 중요도"
   ]
  },
  {
   "cell_type": "code",
   "execution_count": 406,
   "id": "029fd79f",
   "metadata": {},
   "outputs": [
    {
     "data": {
      "text/plain": [
       "array([0.19394849, 0.16965603, 0.12738387, 0.16448887, 0.1088483 ,\n",
       "       0.10699795, 0.12867648])"
      ]
     },
     "execution_count": 406,
     "metadata": {},
     "output_type": "execute_result"
    }
   ],
   "source": [
    "et.fit(tr_in, tr_tar)\n",
    "et.feature_importances_"
   ]
  },
  {
   "cell_type": "markdown",
   "id": "e707acd4",
   "metadata": {},
   "source": [
    "## 그레이디언트 부스팅"
   ]
  },
  {
   "cell_type": "code",
   "execution_count": 401,
   "id": "9651298f",
   "metadata": {},
   "outputs": [
    {
     "name": "stdout",
     "output_type": "stream",
     "text": [
      "훈련모델 결과: 0.9339435146443513\n",
      "테스트 결과: 0.8929943502824859\n"
     ]
    }
   ],
   "source": [
    "from sklearn.ensemble import GradientBoostingClassifier\n",
    "\n",
    "gb = GradientBoostingClassifier(random_state=42)\n",
    "scores = cross_validate(gb, tr_in, tr_tar, return_train_score=True, n_jobs = -1)\n",
    "\n",
    "print('훈련모델 결과:', np.mean(scores['train_score'])) \n",
    "print('테스트 결과:', np.mean(scores['test_score']))"
   ]
  },
  {
   "cell_type": "markdown",
   "id": "250c3f02",
   "metadata": {},
   "source": [
    "### 학습률 조정"
   ]
  },
  {
   "cell_type": "code",
   "execution_count": 403,
   "id": "99f881b0",
   "metadata": {},
   "outputs": [
    {
     "name": "stdout",
     "output_type": "stream",
     "text": [
      "훈련모델 결과: 0.9347803347280335\n",
      "테스트 결과: 0.8996610169491526\n"
     ]
    }
   ],
   "source": [
    "gb = GradientBoostingClassifier(n_estimators=500, learning_rate=0.2, \n",
    "                                random_state=42)\n",
    "scores = cross_validate(gb, tr_in, tr_tar, return_train_score=True, n_jobs = -1)\n",
    "\n",
    "print('훈련모델 결과:', np.mean(scores['train_score'])) \n",
    "print('테스트 결과:', np.mean(scores['test_score']))"
   ]
  },
  {
   "cell_type": "markdown",
   "id": "9f44a661",
   "metadata": {},
   "source": [
    "### 그레이디언트 부스팅 특성 중요도"
   ]
  },
  {
   "cell_type": "code",
   "execution_count": 407,
   "id": "e502ae09",
   "metadata": {},
   "outputs": [
    {
     "data": {
      "text/plain": [
       "array([0.32051547, 0.19183706, 0.00980091, 0.34558264, 0.00865856,\n",
       "       0.07113742, 0.05246794])"
      ]
     },
     "execution_count": 407,
     "metadata": {},
     "output_type": "execute_result"
    }
   ],
   "source": [
    "gb.fit(tr_in, tr_tar)\n",
    "gb.feature_importances_"
   ]
  },
  {
   "cell_type": "markdown",
   "id": "24948231",
   "metadata": {},
   "source": [
    "## 히스토그램 기반 그레이디언트 부스팅"
   ]
  },
  {
   "cell_type": "code",
   "execution_count": 404,
   "id": "49ff03de",
   "metadata": {},
   "outputs": [
    {
     "name": "stdout",
     "output_type": "stream",
     "text": [
      "훈련모델 결과: 0.9347803347280335\n",
      "테스트 결과: 0.8829943502824857\n"
     ]
    }
   ],
   "source": [
    "from sklearn.ensemble import HistGradientBoostingClassifier\n",
    "\n",
    "hgb = HistGradientBoostingClassifier(random_state=42)\n",
    "scores = cross_validate(hgb, tr_in, tr_tar, return_train_score=True, n_jobs=-1)\n",
    "\n",
    "print('훈련모델 결과:', np.mean(scores['train_score'])) \n",
    "print('테스트 결과:', np.mean(scores['test_score']))"
   ]
  },
  {
   "cell_type": "markdown",
   "id": "2d6f2360",
   "metadata": {},
   "source": [
    "### 훈련 세트 특성 중요도 확인"
   ]
  },
  {
   "cell_type": "code",
   "execution_count": 411,
   "id": "839ec516",
   "metadata": {},
   "outputs": [
    {
     "data": {
      "text/plain": [
       "array([ 0.1541806 ,  0.18461538, -0.0006689 ,  0.05451505,  0.00200669,\n",
       "        0.0826087 ,  0.04314381])"
      ]
     },
     "execution_count": 411,
     "metadata": {},
     "output_type": "execute_result"
    }
   ],
   "source": [
    "from sklearn.inspection import permutation_importance\n",
    "\n",
    "hgb.fit(tr_in, tr_tar)\n",
    "result = permutation_importance(hgb, tr_in, tr_tar, n_repeats=10,\n",
    "                                random_state=42, n_jobs=-1)\n",
    "result.importances_mean"
   ]
  },
  {
   "cell_type": "markdown",
   "id": "017393fd",
   "metadata": {},
   "source": [
    "### 테스트 세트 특성 중요도 확인"
   ]
  },
  {
   "cell_type": "code",
   "execution_count": 413,
   "id": "b6c4dea5",
   "metadata": {},
   "outputs": [
    {
     "data": {
      "text/plain": [
       "array([ 0.19733333,  0.16533333, -0.00266667,  0.044     , -0.012     ,\n",
       "        0.05733333,  0.016     ])"
      ]
     },
     "execution_count": 413,
     "metadata": {},
     "output_type": "execute_result"
    }
   ],
   "source": [
    "result = permutation_importance(hgb, te_in, te_tar, n_repeats=10,\n",
    "                                random_state=42, n_jobs=-1)\n",
    "result.importances_mean"
   ]
  },
  {
   "cell_type": "markdown",
   "id": "7c4957f4",
   "metadata": {},
   "source": [
    "## 다중 회귀"
   ]
  },
  {
   "cell_type": "code",
   "execution_count": 415,
   "id": "a54e0744",
   "metadata": {},
   "outputs": [],
   "source": [
    "from sklearn.preprocessing import LabelEncoder\n",
    "\n",
    "lab_en = LabelEncoder()\n",
    "\n",
    "tr_tar_en = lab_en.fit_transform(tr_tar)\n",
    "te_tar_en = lab_en.transform(te_tar)"
   ]
  },
  {
   "cell_type": "code",
   "execution_count": 424,
   "id": "319e1ba4",
   "metadata": {},
   "outputs": [
    {
     "name": "stdout",
     "output_type": "stream",
     "text": [
      "훈련모델 결과: 0.3707040182333474\n",
      "테스트 결과: 0.2561187425927255\n"
     ]
    }
   ],
   "source": [
    "from sklearn.linear_model import LinearRegression\n",
    "\n",
    "lr = LinearRegression()\n",
    "lr.fit(tr_in, tr_tar_en)\n",
    "\n",
    "print('훈련모델 결과:', lr.score(tr_in, tr_tar_en))\n",
    "print('테스트 결과:', lr.score(te_in, te_tar_en))"
   ]
  },
  {
   "cell_type": "markdown",
   "id": "e5f00572",
   "metadata": {},
   "source": [
    "## 릿지 회귀"
   ]
  },
  {
   "cell_type": "code",
   "execution_count": 425,
   "id": "561a9820",
   "metadata": {},
   "outputs": [
    {
     "name": "stdout",
     "output_type": "stream",
     "text": [
      "훈련모델 결과: 0.37069511353572226\n",
      "테스트 결과: 0.2555012326287296\n"
     ]
    }
   ],
   "source": [
    "from sklearn.linear_model import Ridge\n",
    "\n",
    "rdg = Ridge()\n",
    "rdg.fit(tr_in, tr_tar_en)\n",
    "print('훈련모델 결과:', rdg.score(tr_in, tr_tar_en))\n",
    "print('테스트 결과:', rdg.score(te_in, te_tar_en))"
   ]
  },
  {
   "cell_type": "markdown",
   "id": "93a6b563",
   "metadata": {},
   "source": [
    "## 라쏘 회귀"
   ]
  },
  {
   "cell_type": "code",
   "execution_count": 427,
   "id": "0563a40d",
   "metadata": {},
   "outputs": [
    {
     "name": "stdout",
     "output_type": "stream",
     "text": [
      "훈련모델 결과: 0.20783210337679436\n",
      "테스트 결과: 0.023657338249602367\n"
     ]
    }
   ],
   "source": [
    "from sklearn.linear_model import Lasso\n",
    "ls = Lasso()\n",
    "ls.fit(tr_in, tr_tar_en)\n",
    "\n",
    "print('훈련모델 결과:', ls.score(tr_in, tr_tar_en))\n",
    "print('테스트 결과:', ls.score(te_in, te_tar_en))"
   ]
  },
  {
   "cell_type": "markdown",
   "id": "91d24f3b",
   "metadata": {},
   "source": [
    "# 결과\n",
    "\n",
    "#### 이전에 활용했던 모델 중 9종류의 모델을 사용해 본 결과,\n",
    "\n",
    "#### 결정트리\n",
    "    - 훈련모델: 0.9329608938547486\n",
    "    - 테스트: 0.8444444444444444\n",
    "    - 결과 차이: 0.0885164494103042, 약 0.088\n",
    "\n",
    "#### 그리드서치\n",
    "    - 훈련모델 결과: 0.9163879598662207\n",
    "    - 테스트 결과: 0.8666666666666667\n",
    "    - 결과 차이: 0.049721293199554, 약 0.049\n",
    "\n",
    "#### 랜덤 포레스트\n",
    "    - 훈련모델 결과: 0.9347803347280335\n",
    "    - 테스트 결과: 0.9030508474576271\n",
    "    - 결과 차이: 0.0317294872704064, 약 0.031\n",
    "\n",
    "#### 엑스트라 트리\n",
    "    - 훈련모델 결과: 0.9347803347280335\n",
    "    - 테스트 결과: 0.8763276836158191\n",
    "    - 결과 차이: 0.0584526511122144, 약 0.058\n",
    "\n",
    "#### 그레이디언트 부스팅\n",
    "    - 훈련모델 결과: 0.9339435146443513\n",
    "    - 테스트 결과: 0.8929943502824859\n",
    "    - 결과 차이: 0.0409491643618654, 약 0.04\n",
    "\n",
    "#### 히스토그램 기반 그레이디언트 부스팅\n",
    "    - 훈련모델 결과: 0.9347803347280335\n",
    "    - 테스트 결과: 0.8829943502824857\n",
    "    - 결과 차이: 0.0517859844455478, 약 0.051\n",
    "\n",
    "#### 다중 회귀\n",
    "    - 훈련모델 결과: 0.3707040182333474\n",
    "    - 테스트 결과: 0.2561187425927255\n",
    "    - 결과 차이: 0.1145852756406219, 약 0.114\n",
    "\n",
    "#### 릿지 회귀\n",
    "    - 훈련모델 결과: 0.37069511353572226\n",
    "    - 테스트 결과: 0.2555012326287296\n",
    "    - 결과 차이: 0.1151938809069926, 약 0.115\n",
    "\n",
    "#### 라쏘 회귀\n",
    "    - 훈련모델 결과: 0.20783210337679436\n",
    "    - 테스트 결과: 0.023657338249602367\n",
    "    - 결과 차이: 0.184174765127192, 약 0.184\n",
    "\n",
    "- 각각의 모델 결과 차이를 보면 0.031로 랜덤 포레스트가 근접하고, \n",
    "- 라쏘 회귀가 0.184로 서로 차이가 많이 나는 것을 알 수 있다.\n",
    "- 또한, 다중 회귀, 릿지 회귀, 라쏘 회귀의 결과값들이 낮은 것을 볼 수 있다."
   ]
  }
 ],
 "metadata": {
  "kernelspec": {
   "display_name": "Python 3 (ipykernel)",
   "language": "python",
   "name": "python3"
  },
  "language_info": {
   "codemirror_mode": {
    "name": "ipython",
    "version": 3
   },
   "file_extension": ".py",
   "mimetype": "text/x-python",
   "name": "python",
   "nbconvert_exporter": "python",
   "pygments_lexer": "ipython3",
   "version": "3.10.9"
  }
 },
 "nbformat": 4,
 "nbformat_minor": 5
}

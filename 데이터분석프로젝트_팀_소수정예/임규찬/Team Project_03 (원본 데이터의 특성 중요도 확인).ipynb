{
 "cells": [
  {
   "cell_type": "markdown",
   "id": "dc46d78f",
   "metadata": {},
   "source": [
    "Team Project_02 파일에서 모델마다 특성 중요도를 확인하지만 Gender, BMI 자료들을 나누어서 측정하다보니 <br>\n",
    "원본파일의 특성 중요도는 어떻게 나올지 궁금하여 자료를 나누지 않고 특성 중요도를 확인해봄."
   ]
  },
  {
   "cell_type": "markdown",
   "id": "a493ddcb",
   "metadata": {},
   "source": [
    "<hr>"
   ]
  },
  {
   "cell_type": "markdown",
   "id": "1323bd02",
   "metadata": {},
   "source": [
    "##### CSV 자료 가져오기"
   ]
  },
  {
   "cell_type": "code",
   "execution_count": 1,
   "id": "b037a046",
   "metadata": {},
   "outputs": [],
   "source": [
    "import pandas as pd\n",
    "\n",
    "sleep = pd.read_csv(\"Sleep_health_and_lifestyle_dataset.csv\")"
   ]
  },
  {
   "cell_type": "markdown",
   "id": "1878d81a",
   "metadata": {},
   "source": [
    "#### 성별(Gender) 숫자로 변환하기"
   ]
  },
  {
   "cell_type": "code",
   "execution_count": 2,
   "id": "fc05ea37",
   "metadata": {},
   "outputs": [],
   "source": [
    "sleep['Gender'] = pd.get_dummies(sleep['Gender'], drop_first=True)\n",
    "\n",
    "# Gender --> 1: 남자,  0: 여자"
   ]
  },
  {
   "cell_type": "markdown",
   "id": "51b97cc7",
   "metadata": {},
   "source": [
    "#### 사용하지 않을 Person ID, Occupation(직업) 열 제거"
   ]
  },
  {
   "cell_type": "code",
   "execution_count": 3,
   "id": "5901b863",
   "metadata": {},
   "outputs": [],
   "source": [
    "sleep.drop(['Person ID','Occupation'], axis=1, inplace=True)       "
   ]
  },
  {
   "cell_type": "markdown",
   "id": "709c5162",
   "metadata": {},
   "source": [
    "#### Blood Pressure 혈압에서 수축기 자료만 가져오기"
   ]
  },
  {
   "cell_type": "code",
   "execution_count": 4,
   "id": "48a712c0",
   "metadata": {},
   "outputs": [],
   "source": [
    "for i in range(len(sleep['Blood Pressure'])):\n",
    "    sleep.loc[i, 'Blood Pressure'] = sleep['Blood Pressure'][i].split('/')[0]"
   ]
  },
  {
   "cell_type": "code",
   "execution_count": 5,
   "id": "3d19c2ff",
   "metadata": {},
   "outputs": [],
   "source": [
    "sleep['Blood Pressure'] = sleep['Blood Pressure'].astype('int')"
   ]
  },
  {
   "cell_type": "markdown",
   "id": "db8326da",
   "metadata": {},
   "source": [
    "##### BMI Category 수치를 숫자로 변경하기 "
   ]
  },
  {
   "cell_type": "code",
   "execution_count": 6,
   "id": "c4bbe5b1",
   "metadata": {},
   "outputs": [
    {
     "name": "stdout",
     "output_type": "stream",
     "text": [
      "['Normal' 'Normal Weight' 'Obese' 'Overweight']\n"
     ]
    }
   ],
   "source": [
    "from sklearn.preprocessing import LabelEncoder\n",
    "\n",
    "encoder = LabelEncoder()\n",
    "encoder.fit(sleep['BMI Category'])\n",
    "\n",
    "sleep['BMI Category'] = encoder.transform(sleep['BMI Category'])\n",
    "\n",
    "print(encoder.classes_)    \n",
    "# Normal : 0,  Normal Weight : 1,  Obese : 2 ,  Overweight :3"
   ]
  },
  {
   "cell_type": "markdown",
   "id": "c61f9145",
   "metadata": {},
   "source": [
    "##### Sleep Disorder 값 숫자로 변경하기 (레이블 인코딩)"
   ]
  },
  {
   "cell_type": "code",
   "execution_count": 7,
   "id": "c7958e0e",
   "metadata": {},
   "outputs": [
    {
     "name": "stdout",
     "output_type": "stream",
     "text": [
      "['Insomnia' 'None' 'Sleep Apnea']\n"
     ]
    }
   ],
   "source": [
    "from sklearn.preprocessing import LabelEncoder\n",
    "\n",
    "encoder = LabelEncoder()\n",
    "encoder.fit(sleep['Sleep Disorder'])\n",
    "\n",
    "sleep['Sleep Disorder'] = encoder.transform(sleep['Sleep Disorder'])\n",
    "\n",
    "print(encoder.classes_)               \n",
    "# Insomnia : 0,  None : 1,  Sleep Apnea : 2"
   ]
  },
  {
   "cell_type": "code",
   "execution_count": 8,
   "id": "e0bb0e72",
   "metadata": {},
   "outputs": [
    {
     "data": {
      "text/html": [
       "<div>\n",
       "<style scoped>\n",
       "    .dataframe tbody tr th:only-of-type {\n",
       "        vertical-align: middle;\n",
       "    }\n",
       "\n",
       "    .dataframe tbody tr th {\n",
       "        vertical-align: top;\n",
       "    }\n",
       "\n",
       "    .dataframe thead th {\n",
       "        text-align: right;\n",
       "    }\n",
       "</style>\n",
       "<table border=\"1\" class=\"dataframe\">\n",
       "  <thead>\n",
       "    <tr style=\"text-align: right;\">\n",
       "      <th></th>\n",
       "      <th>Gender</th>\n",
       "      <th>Age</th>\n",
       "      <th>Sleep Duration</th>\n",
       "      <th>Quality of Sleep</th>\n",
       "      <th>Physical Activity Level</th>\n",
       "      <th>Stress Level</th>\n",
       "      <th>BMI Category</th>\n",
       "      <th>Blood Pressure</th>\n",
       "      <th>Heart Rate</th>\n",
       "      <th>Daily Steps</th>\n",
       "      <th>Sleep Disorder</th>\n",
       "    </tr>\n",
       "  </thead>\n",
       "  <tbody>\n",
       "    <tr>\n",
       "      <th>0</th>\n",
       "      <td>1</td>\n",
       "      <td>27</td>\n",
       "      <td>6.1</td>\n",
       "      <td>6</td>\n",
       "      <td>42</td>\n",
       "      <td>6</td>\n",
       "      <td>3</td>\n",
       "      <td>126</td>\n",
       "      <td>77</td>\n",
       "      <td>4200</td>\n",
       "      <td>1</td>\n",
       "    </tr>\n",
       "    <tr>\n",
       "      <th>1</th>\n",
       "      <td>1</td>\n",
       "      <td>28</td>\n",
       "      <td>6.2</td>\n",
       "      <td>6</td>\n",
       "      <td>60</td>\n",
       "      <td>8</td>\n",
       "      <td>0</td>\n",
       "      <td>125</td>\n",
       "      <td>75</td>\n",
       "      <td>10000</td>\n",
       "      <td>1</td>\n",
       "    </tr>\n",
       "    <tr>\n",
       "      <th>2</th>\n",
       "      <td>1</td>\n",
       "      <td>28</td>\n",
       "      <td>6.2</td>\n",
       "      <td>6</td>\n",
       "      <td>60</td>\n",
       "      <td>8</td>\n",
       "      <td>0</td>\n",
       "      <td>125</td>\n",
       "      <td>75</td>\n",
       "      <td>10000</td>\n",
       "      <td>1</td>\n",
       "    </tr>\n",
       "  </tbody>\n",
       "</table>\n",
       "</div>"
      ],
      "text/plain": [
       "   Gender  Age  Sleep Duration  Quality of Sleep  Physical Activity Level  \\\n",
       "0       1   27             6.1                 6                       42   \n",
       "1       1   28             6.2                 6                       60   \n",
       "2       1   28             6.2                 6                       60   \n",
       "\n",
       "   Stress Level  BMI Category  Blood Pressure  Heart Rate  Daily Steps  \\\n",
       "0             6             3             126          77         4200   \n",
       "1             8             0             125          75        10000   \n",
       "2             8             0             125          75        10000   \n",
       "\n",
       "   Sleep Disorder  \n",
       "0               1  \n",
       "1               1  \n",
       "2               1  "
      ]
     },
     "execution_count": 8,
     "metadata": {},
     "output_type": "execute_result"
    }
   ],
   "source": [
    "sleep.head(3)"
   ]
  },
  {
   "cell_type": "markdown",
   "id": "0e6c3904",
   "metadata": {},
   "source": [
    "<hr>"
   ]
  },
  {
   "cell_type": "markdown",
   "id": "6b5ce1f5",
   "metadata": {},
   "source": [
    "#### 훈련 데이터와 테스트 데이터 나누기 (비율 7 : 3)"
   ]
  },
  {
   "cell_type": "code",
   "execution_count": 9,
   "id": "781320cc",
   "metadata": {},
   "outputs": [],
   "source": [
    "from sklearn.model_selection import train_test_split\n",
    "\n",
    "X = sleep[['Gender','Age', 'Sleep Duration', 'Quality of Sleep', 'Physical Activity Level', \n",
    "           'Stress Level','BMI Category','Blood Pressure', 'Heart Rate', 'Daily Steps']]\n",
    "y = sleep['Sleep Disorder'].to_numpy()\n",
    "\n",
    "X_train, X_test, y_train, y_test = train_test_split(X, y, test_size=0.3, random_state=42)                "
   ]
  },
  {
   "cell_type": "markdown",
   "id": "bbd8d478",
   "metadata": {},
   "source": [
    "## 특성 중요도 내림차순으로 확인"
   ]
  },
  {
   "cell_type": "code",
   "execution_count": null,
   "id": "ca47e30c",
   "metadata": {},
   "outputs": [],
   "source": [
    "# feature_importance['importance'].sort_values(ascending=False)"
   ]
  },
  {
   "cell_type": "markdown",
   "id": "cf5deba6",
   "metadata": {},
   "source": [
    "#### 결정트리에서의 특성 중요도"
   ]
  },
  {
   "cell_type": "code",
   "execution_count": 10,
   "id": "70e61f21",
   "metadata": {},
   "outputs": [
    {
     "data": {
      "text/html": [
       "<div>\n",
       "<style scoped>\n",
       "    .dataframe tbody tr th:only-of-type {\n",
       "        vertical-align: middle;\n",
       "    }\n",
       "\n",
       "    .dataframe tbody tr th {\n",
       "        vertical-align: top;\n",
       "    }\n",
       "\n",
       "    .dataframe thead th {\n",
       "        text-align: right;\n",
       "    }\n",
       "</style>\n",
       "<table border=\"1\" class=\"dataframe\">\n",
       "  <thead>\n",
       "    <tr style=\"text-align: right;\">\n",
       "      <th></th>\n",
       "      <th>feature</th>\n",
       "      <th>importance</th>\n",
       "    </tr>\n",
       "  </thead>\n",
       "  <tbody>\n",
       "    <tr>\n",
       "      <th>0</th>\n",
       "      <td>Gender</td>\n",
       "      <td>0.017454</td>\n",
       "    </tr>\n",
       "    <tr>\n",
       "      <th>1</th>\n",
       "      <td>Age</td>\n",
       "      <td>0.070177</td>\n",
       "    </tr>\n",
       "    <tr>\n",
       "      <th>2</th>\n",
       "      <td>Sleep Duration</td>\n",
       "      <td>0.029547</td>\n",
       "    </tr>\n",
       "    <tr>\n",
       "      <th>3</th>\n",
       "      <td>Quality of Sleep</td>\n",
       "      <td>0.002773</td>\n",
       "    </tr>\n",
       "    <tr>\n",
       "      <th>4</th>\n",
       "      <td>Physical Activity Level</td>\n",
       "      <td>0.267109</td>\n",
       "    </tr>\n",
       "    <tr>\n",
       "      <th>5</th>\n",
       "      <td>Stress Level</td>\n",
       "      <td>0.003422</td>\n",
       "    </tr>\n",
       "    <tr>\n",
       "      <th>6</th>\n",
       "      <td>BMI Category</td>\n",
       "      <td>0.485891</td>\n",
       "    </tr>\n",
       "    <tr>\n",
       "      <th>7</th>\n",
       "      <td>Blood Pressure</td>\n",
       "      <td>0.083184</td>\n",
       "    </tr>\n",
       "    <tr>\n",
       "      <th>8</th>\n",
       "      <td>Heart Rate</td>\n",
       "      <td>0.033624</td>\n",
       "    </tr>\n",
       "    <tr>\n",
       "      <th>9</th>\n",
       "      <td>Daily Steps</td>\n",
       "      <td>0.006818</td>\n",
       "    </tr>\n",
       "  </tbody>\n",
       "</table>\n",
       "</div>"
      ],
      "text/plain": [
       "                   feature  importance\n",
       "0                   Gender    0.017454\n",
       "1                      Age    0.070177\n",
       "2           Sleep Duration    0.029547\n",
       "3         Quality of Sleep    0.002773\n",
       "4  Physical Activity Level    0.267109\n",
       "5             Stress Level    0.003422\n",
       "6             BMI Category    0.485891\n",
       "7           Blood Pressure    0.083184\n",
       "8               Heart Rate    0.033624\n",
       "9              Daily Steps    0.006818"
      ]
     },
     "execution_count": 10,
     "metadata": {},
     "output_type": "execute_result"
    }
   ],
   "source": [
    "from sklearn.tree import DecisionTreeClassifier\n",
    "dt = DecisionTreeClassifier(random_state=42)\n",
    "dt.fit(X_train,y_train)\n",
    "\n",
    "feature_importance = pd.DataFrame({\n",
    "    'feature': X.columns,\n",
    "    'importance': dt.feature_importances_\n",
    "})\n",
    "\n",
    "feature_importance"
   ]
  },
  {
   "cell_type": "markdown",
   "id": "93674209",
   "metadata": {},
   "source": [
    "- 중요도 3위 : BMI Category > Physical Activity Level > Blood Pressure"
   ]
  },
  {
   "cell_type": "markdown",
   "id": "a73b3a69",
   "metadata": {},
   "source": [
    "###### 랜덤 포레스트에서의 특성 중요도 확인"
   ]
  },
  {
   "cell_type": "code",
   "execution_count": 11,
   "id": "fc772b1f",
   "metadata": {},
   "outputs": [
    {
     "data": {
      "text/html": [
       "<div>\n",
       "<style scoped>\n",
       "    .dataframe tbody tr th:only-of-type {\n",
       "        vertical-align: middle;\n",
       "    }\n",
       "\n",
       "    .dataframe tbody tr th {\n",
       "        vertical-align: top;\n",
       "    }\n",
       "\n",
       "    .dataframe thead th {\n",
       "        text-align: right;\n",
       "    }\n",
       "</style>\n",
       "<table border=\"1\" class=\"dataframe\">\n",
       "  <thead>\n",
       "    <tr style=\"text-align: right;\">\n",
       "      <th></th>\n",
       "      <th>category</th>\n",
       "      <th>importance</th>\n",
       "    </tr>\n",
       "  </thead>\n",
       "  <tbody>\n",
       "    <tr>\n",
       "      <th>0</th>\n",
       "      <td>Gender</td>\n",
       "      <td>0.011781</td>\n",
       "    </tr>\n",
       "    <tr>\n",
       "      <th>1</th>\n",
       "      <td>Age</td>\n",
       "      <td>0.109395</td>\n",
       "    </tr>\n",
       "    <tr>\n",
       "      <th>2</th>\n",
       "      <td>Sleep Duration</td>\n",
       "      <td>0.138135</td>\n",
       "    </tr>\n",
       "    <tr>\n",
       "      <th>3</th>\n",
       "      <td>Quality of Sleep</td>\n",
       "      <td>0.026671</td>\n",
       "    </tr>\n",
       "    <tr>\n",
       "      <th>4</th>\n",
       "      <td>Physical Activity Level</td>\n",
       "      <td>0.073708</td>\n",
       "    </tr>\n",
       "    <tr>\n",
       "      <th>5</th>\n",
       "      <td>Stress Level</td>\n",
       "      <td>0.027092</td>\n",
       "    </tr>\n",
       "    <tr>\n",
       "      <th>6</th>\n",
       "      <td>BMI Category</td>\n",
       "      <td>0.262011</td>\n",
       "    </tr>\n",
       "    <tr>\n",
       "      <th>7</th>\n",
       "      <td>Blood Pressure</td>\n",
       "      <td>0.217304</td>\n",
       "    </tr>\n",
       "    <tr>\n",
       "      <th>8</th>\n",
       "      <td>Heart Rate</td>\n",
       "      <td>0.056940</td>\n",
       "    </tr>\n",
       "    <tr>\n",
       "      <th>9</th>\n",
       "      <td>Daily Steps</td>\n",
       "      <td>0.076963</td>\n",
       "    </tr>\n",
       "  </tbody>\n",
       "</table>\n",
       "</div>"
      ],
      "text/plain": [
       "                  category  importance\n",
       "0                   Gender    0.011781\n",
       "1                      Age    0.109395\n",
       "2           Sleep Duration    0.138135\n",
       "3         Quality of Sleep    0.026671\n",
       "4  Physical Activity Level    0.073708\n",
       "5             Stress Level    0.027092\n",
       "6             BMI Category    0.262011\n",
       "7           Blood Pressure    0.217304\n",
       "8               Heart Rate    0.056940\n",
       "9              Daily Steps    0.076963"
      ]
     },
     "execution_count": 11,
     "metadata": {},
     "output_type": "execute_result"
    }
   ],
   "source": [
    "from sklearn.ensemble import RandomForestClassifier\n",
    "rf = RandomForestClassifier(random_state=42)\n",
    "rf.fit(X, y)\n",
    "\n",
    "feature_importance = pd.DataFrame({\n",
    "    'category': X.columns,\n",
    "    'importance': rf.feature_importances_\n",
    "})\n",
    "\n",
    "feature_importance"
   ]
  },
  {
   "cell_type": "markdown",
   "id": "b0e1ebd7",
   "metadata": {},
   "source": [
    "- 중요도 3위 : BMI Category > Blood Pressure > Sleep Duration"
   ]
  },
  {
   "cell_type": "markdown",
   "id": "b7f92a63",
   "metadata": {},
   "source": [
    "###### 엑스트라 트리에서의 특성 중요도 확인"
   ]
  },
  {
   "cell_type": "code",
   "execution_count": 12,
   "id": "125cdafb",
   "metadata": {},
   "outputs": [
    {
     "data": {
      "text/html": [
       "<div>\n",
       "<style scoped>\n",
       "    .dataframe tbody tr th:only-of-type {\n",
       "        vertical-align: middle;\n",
       "    }\n",
       "\n",
       "    .dataframe tbody tr th {\n",
       "        vertical-align: top;\n",
       "    }\n",
       "\n",
       "    .dataframe thead th {\n",
       "        text-align: right;\n",
       "    }\n",
       "</style>\n",
       "<table border=\"1\" class=\"dataframe\">\n",
       "  <thead>\n",
       "    <tr style=\"text-align: right;\">\n",
       "      <th></th>\n",
       "      <th>category</th>\n",
       "      <th>importance</th>\n",
       "    </tr>\n",
       "  </thead>\n",
       "  <tbody>\n",
       "    <tr>\n",
       "      <th>0</th>\n",
       "      <td>Gender</td>\n",
       "      <td>0.038934</td>\n",
       "    </tr>\n",
       "    <tr>\n",
       "      <th>1</th>\n",
       "      <td>Age</td>\n",
       "      <td>0.111126</td>\n",
       "    </tr>\n",
       "    <tr>\n",
       "      <th>2</th>\n",
       "      <td>Sleep Duration</td>\n",
       "      <td>0.094150</td>\n",
       "    </tr>\n",
       "    <tr>\n",
       "      <th>3</th>\n",
       "      <td>Quality of Sleep</td>\n",
       "      <td>0.054857</td>\n",
       "    </tr>\n",
       "    <tr>\n",
       "      <th>4</th>\n",
       "      <td>Physical Activity Level</td>\n",
       "      <td>0.090121</td>\n",
       "    </tr>\n",
       "    <tr>\n",
       "      <th>5</th>\n",
       "      <td>Stress Level</td>\n",
       "      <td>0.048300</td>\n",
       "    </tr>\n",
       "    <tr>\n",
       "      <th>6</th>\n",
       "      <td>BMI Category</td>\n",
       "      <td>0.279766</td>\n",
       "    </tr>\n",
       "    <tr>\n",
       "      <th>7</th>\n",
       "      <td>Blood Pressure</td>\n",
       "      <td>0.176161</td>\n",
       "    </tr>\n",
       "    <tr>\n",
       "      <th>8</th>\n",
       "      <td>Heart Rate</td>\n",
       "      <td>0.043819</td>\n",
       "    </tr>\n",
       "    <tr>\n",
       "      <th>9</th>\n",
       "      <td>Daily Steps</td>\n",
       "      <td>0.062765</td>\n",
       "    </tr>\n",
       "  </tbody>\n",
       "</table>\n",
       "</div>"
      ],
      "text/plain": [
       "                  category  importance\n",
       "0                   Gender    0.038934\n",
       "1                      Age    0.111126\n",
       "2           Sleep Duration    0.094150\n",
       "3         Quality of Sleep    0.054857\n",
       "4  Physical Activity Level    0.090121\n",
       "5             Stress Level    0.048300\n",
       "6             BMI Category    0.279766\n",
       "7           Blood Pressure    0.176161\n",
       "8               Heart Rate    0.043819\n",
       "9              Daily Steps    0.062765"
      ]
     },
     "execution_count": 12,
     "metadata": {},
     "output_type": "execute_result"
    }
   ],
   "source": [
    "from sklearn.ensemble import ExtraTreesClassifier\n",
    "et = ExtraTreesClassifier(random_state=42)\n",
    "et.fit(X, y)\n",
    "\n",
    "feature_importance = pd.DataFrame({\n",
    "    'category': X.columns,\n",
    "    'importance': et.feature_importances_\n",
    "})\n",
    "\n",
    "feature_importance"
   ]
  },
  {
   "cell_type": "markdown",
   "id": "ccf47d56",
   "metadata": {},
   "source": [
    "- 중요도 3위 : BMI Category > Blood Pressure > Age"
   ]
  },
  {
   "cell_type": "markdown",
   "id": "5931d729",
   "metadata": {},
   "source": [
    "###### 그레이언트 부스팅에서의 특성 중요도 확인"
   ]
  },
  {
   "cell_type": "code",
   "execution_count": 13,
   "id": "0b386362",
   "metadata": {},
   "outputs": [
    {
     "data": {
      "text/html": [
       "<div>\n",
       "<style scoped>\n",
       "    .dataframe tbody tr th:only-of-type {\n",
       "        vertical-align: middle;\n",
       "    }\n",
       "\n",
       "    .dataframe tbody tr th {\n",
       "        vertical-align: top;\n",
       "    }\n",
       "\n",
       "    .dataframe thead th {\n",
       "        text-align: right;\n",
       "    }\n",
       "</style>\n",
       "<table border=\"1\" class=\"dataframe\">\n",
       "  <thead>\n",
       "    <tr style=\"text-align: right;\">\n",
       "      <th></th>\n",
       "      <th>category</th>\n",
       "      <th>importance</th>\n",
       "    </tr>\n",
       "  </thead>\n",
       "  <tbody>\n",
       "    <tr>\n",
       "      <th>0</th>\n",
       "      <td>Gender</td>\n",
       "      <td>0.004096</td>\n",
       "    </tr>\n",
       "    <tr>\n",
       "      <th>1</th>\n",
       "      <td>Age</td>\n",
       "      <td>0.027909</td>\n",
       "    </tr>\n",
       "    <tr>\n",
       "      <th>2</th>\n",
       "      <td>Sleep Duration</td>\n",
       "      <td>0.018366</td>\n",
       "    </tr>\n",
       "    <tr>\n",
       "      <th>3</th>\n",
       "      <td>Quality of Sleep</td>\n",
       "      <td>0.012814</td>\n",
       "    </tr>\n",
       "    <tr>\n",
       "      <th>4</th>\n",
       "      <td>Physical Activity Level</td>\n",
       "      <td>0.105718</td>\n",
       "    </tr>\n",
       "    <tr>\n",
       "      <th>5</th>\n",
       "      <td>Stress Level</td>\n",
       "      <td>0.002147</td>\n",
       "    </tr>\n",
       "    <tr>\n",
       "      <th>6</th>\n",
       "      <td>BMI Category</td>\n",
       "      <td>0.323861</td>\n",
       "    </tr>\n",
       "    <tr>\n",
       "      <th>7</th>\n",
       "      <td>Blood Pressure</td>\n",
       "      <td>0.437363</td>\n",
       "    </tr>\n",
       "    <tr>\n",
       "      <th>8</th>\n",
       "      <td>Heart Rate</td>\n",
       "      <td>0.040495</td>\n",
       "    </tr>\n",
       "    <tr>\n",
       "      <th>9</th>\n",
       "      <td>Daily Steps</td>\n",
       "      <td>0.027231</td>\n",
       "    </tr>\n",
       "  </tbody>\n",
       "</table>\n",
       "</div>"
      ],
      "text/plain": [
       "                  category  importance\n",
       "0                   Gender    0.004096\n",
       "1                      Age    0.027909\n",
       "2           Sleep Duration    0.018366\n",
       "3         Quality of Sleep    0.012814\n",
       "4  Physical Activity Level    0.105718\n",
       "5             Stress Level    0.002147\n",
       "6             BMI Category    0.323861\n",
       "7           Blood Pressure    0.437363\n",
       "8               Heart Rate    0.040495\n",
       "9              Daily Steps    0.027231"
      ]
     },
     "execution_count": 13,
     "metadata": {},
     "output_type": "execute_result"
    }
   ],
   "source": [
    "from sklearn.ensemble import GradientBoostingClassifier\n",
    "gb = GradientBoostingClassifier(random_state=42)\n",
    "gb.fit(X, y)\n",
    "\n",
    "feature_importance = pd.DataFrame({\n",
    "    'category': X.columns,\n",
    "    'importance': gb.feature_importances_\n",
    "})\n",
    "\n",
    "feature_importance"
   ]
  },
  {
   "cell_type": "markdown",
   "id": "869258d9",
   "metadata": {},
   "source": [
    "- 중요도 3위 : Blood Pressure > BMI Category > Physical Activity Level"
   ]
  },
  {
   "cell_type": "markdown",
   "id": "682bab39",
   "metadata": {},
   "source": [
    "<hr>"
   ]
  },
  {
   "cell_type": "markdown",
   "id": "72a34993",
   "metadata": {},
   "source": [
    "결정트리, 랜덤 포레스트, 엑스트라 트리, 그레이언트 부스팅 의 특성중요도 확인 결과 <br>\n",
    "모두 동일한 결과를 보여주진 않았으나, 전반적으로 BMI Category, Blood Pressure, Physical Activity Level <br>\n",
    "세 요인이 중복적으로 출력된 것을 확인할 수 있다."
   ]
  }
 ],
 "metadata": {
  "kernelspec": {
   "display_name": "Python 3 (ipykernel)",
   "language": "python",
   "name": "python3"
  },
  "language_info": {
   "codemirror_mode": {
    "name": "ipython",
    "version": 3
   },
   "file_extension": ".py",
   "mimetype": "text/x-python",
   "name": "python",
   "nbconvert_exporter": "python",
   "pygments_lexer": "ipython3",
   "version": "3.10.9"
  }
 },
 "nbformat": 4,
 "nbformat_minor": 5
}

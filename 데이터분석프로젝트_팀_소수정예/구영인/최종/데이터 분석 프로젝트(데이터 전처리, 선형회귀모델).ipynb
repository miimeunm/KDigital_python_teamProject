{
 "cells": [
  {
   "cell_type": "markdown",
   "id": "0c173b40",
   "metadata": {},
   "source": [
    "# 데이터 분석 프로젝트(머신 러닝 활용)\n",
    "<hr>"
   ]
  },
  {
   "cell_type": "markdown",
   "id": "f99fb858",
   "metadata": {},
   "source": [
    "# 팀 프로젝트 주제\n",
    "## 수면 장애(Sleep Disorder)에 영향을 끼치는 요인 분석\n",
    "1. 수면 장애를 일으키는 특성을 모은 데이터를 활용해 어떤 특성이 가장 많은 수면 장애에 영향을 끼치는지 분석하고자 함.\n",
    "2. 주어진 데이터에서 전처리 후 표준화를 진행하였음.\n",
    "3. 특성을 가장 잘 찾아내는 모델을 찾기 위해 3개의 모델을 사용하여 학습, 테스트를 진행함 "
   ]
  },
  {
   "cell_type": "markdown",
   "id": "2dac8957",
   "metadata": {},
   "source": [
    "<br>"
   ]
  },
  {
   "cell_type": "markdown",
   "id": "7c206ee5",
   "metadata": {},
   "source": [
    "## 데이터 불러오기"
   ]
  },
  {
   "cell_type": "code",
   "execution_count": 53,
   "id": "a06cf491",
   "metadata": {},
   "outputs": [],
   "source": [
    "import pandas as pd\n",
    "import numpy as np\n",
    "\n",
    "data = pd.read_csv('Sleep_health_and_lifestyle_dataset.csv')"
   ]
  },
  {
   "cell_type": "code",
   "execution_count": 54,
   "id": "61fb01d9",
   "metadata": {
    "scrolled": true
   },
   "outputs": [
    {
     "name": "stdout",
     "output_type": "stream",
     "text": [
      "<class 'pandas.core.frame.DataFrame'>\n",
      "RangeIndex: 374 entries, 0 to 373\n",
      "Data columns (total 13 columns):\n",
      " #   Column                   Non-Null Count  Dtype  \n",
      "---  ------                   --------------  -----  \n",
      " 0   Person ID                374 non-null    int64  \n",
      " 1   Gender                   374 non-null    object \n",
      " 2   Age                      374 non-null    int64  \n",
      " 3   Occupation               374 non-null    object \n",
      " 4   Sleep Duration           374 non-null    float64\n",
      " 5   Quality of Sleep         374 non-null    int64  \n",
      " 6   Physical Activity Level  374 non-null    int64  \n",
      " 7   Stress Level             374 non-null    int64  \n",
      " 8   BMI Category             374 non-null    object \n",
      " 9   Blood Pressure           374 non-null    object \n",
      " 10  Heart Rate               374 non-null    int64  \n",
      " 11  Daily Steps              374 non-null    int64  \n",
      " 12  Sleep Disorder           374 non-null    object \n",
      "dtypes: float64(1), int64(7), object(5)\n",
      "memory usage: 38.1+ KB\n"
     ]
    }
   ],
   "source": [
    "# 데이터 확인\n",
    "data.info()"
   ]
  },
  {
   "cell_type": "code",
   "execution_count": 55,
   "id": "72333810",
   "metadata": {},
   "outputs": [
    {
     "data": {
      "text/plain": [
       "(374, 13)"
      ]
     },
     "execution_count": 55,
     "metadata": {},
     "output_type": "execute_result"
    }
   ],
   "source": [
    "data.shape"
   ]
  },
  {
   "cell_type": "markdown",
   "id": "15b309a2",
   "metadata": {},
   "source": [
    "## 데이터 전처리"
   ]
  },
  {
   "cell_type": "markdown",
   "id": "69758049",
   "metadata": {},
   "source": [
    "* Person ID 열 인덱스 처리"
   ]
  },
  {
   "cell_type": "code",
   "execution_count": 56,
   "id": "afaa597a",
   "metadata": {},
   "outputs": [],
   "source": [
    "data.set_index('Person ID', inplace=True)"
   ]
  },
  {
   "cell_type": "code",
   "execution_count": 57,
   "id": "dcbf36aa",
   "metadata": {},
   "outputs": [
    {
     "data": {
      "text/html": [
       "<div>\n",
       "<style scoped>\n",
       "    .dataframe tbody tr th:only-of-type {\n",
       "        vertical-align: middle;\n",
       "    }\n",
       "\n",
       "    .dataframe tbody tr th {\n",
       "        vertical-align: top;\n",
       "    }\n",
       "\n",
       "    .dataframe thead th {\n",
       "        text-align: right;\n",
       "    }\n",
       "</style>\n",
       "<table border=\"1\" class=\"dataframe\">\n",
       "  <thead>\n",
       "    <tr style=\"text-align: right;\">\n",
       "      <th></th>\n",
       "      <th>Gender</th>\n",
       "      <th>Age</th>\n",
       "      <th>Occupation</th>\n",
       "      <th>Sleep Duration</th>\n",
       "      <th>Quality of Sleep</th>\n",
       "      <th>Physical Activity Level</th>\n",
       "      <th>Stress Level</th>\n",
       "      <th>BMI Category</th>\n",
       "      <th>Blood Pressure</th>\n",
       "      <th>Heart Rate</th>\n",
       "      <th>Daily Steps</th>\n",
       "      <th>Sleep Disorder</th>\n",
       "    </tr>\n",
       "    <tr>\n",
       "      <th>Person ID</th>\n",
       "      <th></th>\n",
       "      <th></th>\n",
       "      <th></th>\n",
       "      <th></th>\n",
       "      <th></th>\n",
       "      <th></th>\n",
       "      <th></th>\n",
       "      <th></th>\n",
       "      <th></th>\n",
       "      <th></th>\n",
       "      <th></th>\n",
       "      <th></th>\n",
       "    </tr>\n",
       "  </thead>\n",
       "  <tbody>\n",
       "    <tr>\n",
       "      <th>1</th>\n",
       "      <td>Male</td>\n",
       "      <td>27</td>\n",
       "      <td>Software Engineer</td>\n",
       "      <td>6.1</td>\n",
       "      <td>6</td>\n",
       "      <td>42</td>\n",
       "      <td>6</td>\n",
       "      <td>Overweight</td>\n",
       "      <td>126/83</td>\n",
       "      <td>77</td>\n",
       "      <td>4200</td>\n",
       "      <td>None</td>\n",
       "    </tr>\n",
       "    <tr>\n",
       "      <th>2</th>\n",
       "      <td>Male</td>\n",
       "      <td>28</td>\n",
       "      <td>Doctor</td>\n",
       "      <td>6.2</td>\n",
       "      <td>6</td>\n",
       "      <td>60</td>\n",
       "      <td>8</td>\n",
       "      <td>Normal</td>\n",
       "      <td>125/80</td>\n",
       "      <td>75</td>\n",
       "      <td>10000</td>\n",
       "      <td>None</td>\n",
       "    </tr>\n",
       "    <tr>\n",
       "      <th>3</th>\n",
       "      <td>Male</td>\n",
       "      <td>28</td>\n",
       "      <td>Doctor</td>\n",
       "      <td>6.2</td>\n",
       "      <td>6</td>\n",
       "      <td>60</td>\n",
       "      <td>8</td>\n",
       "      <td>Normal</td>\n",
       "      <td>125/80</td>\n",
       "      <td>75</td>\n",
       "      <td>10000</td>\n",
       "      <td>None</td>\n",
       "    </tr>\n",
       "    <tr>\n",
       "      <th>4</th>\n",
       "      <td>Male</td>\n",
       "      <td>28</td>\n",
       "      <td>Sales Representative</td>\n",
       "      <td>5.9</td>\n",
       "      <td>4</td>\n",
       "      <td>30</td>\n",
       "      <td>8</td>\n",
       "      <td>Obese</td>\n",
       "      <td>140/90</td>\n",
       "      <td>85</td>\n",
       "      <td>3000</td>\n",
       "      <td>Sleep Apnea</td>\n",
       "    </tr>\n",
       "    <tr>\n",
       "      <th>5</th>\n",
       "      <td>Male</td>\n",
       "      <td>28</td>\n",
       "      <td>Sales Representative</td>\n",
       "      <td>5.9</td>\n",
       "      <td>4</td>\n",
       "      <td>30</td>\n",
       "      <td>8</td>\n",
       "      <td>Obese</td>\n",
       "      <td>140/90</td>\n",
       "      <td>85</td>\n",
       "      <td>3000</td>\n",
       "      <td>Sleep Apnea</td>\n",
       "    </tr>\n",
       "  </tbody>\n",
       "</table>\n",
       "</div>"
      ],
      "text/plain": [
       "          Gender  Age            Occupation  Sleep Duration  Quality of Sleep  \\\n",
       "Person ID                                                                       \n",
       "1           Male   27     Software Engineer             6.1                 6   \n",
       "2           Male   28                Doctor             6.2                 6   \n",
       "3           Male   28                Doctor             6.2                 6   \n",
       "4           Male   28  Sales Representative             5.9                 4   \n",
       "5           Male   28  Sales Representative             5.9                 4   \n",
       "\n",
       "           Physical Activity Level  Stress Level BMI Category Blood Pressure  \\\n",
       "Person ID                                                                      \n",
       "1                               42             6   Overweight         126/83   \n",
       "2                               60             8       Normal         125/80   \n",
       "3                               60             8       Normal         125/80   \n",
       "4                               30             8        Obese         140/90   \n",
       "5                               30             8        Obese         140/90   \n",
       "\n",
       "           Heart Rate  Daily Steps Sleep Disorder  \n",
       "Person ID                                          \n",
       "1                  77         4200           None  \n",
       "2                  75        10000           None  \n",
       "3                  75        10000           None  \n",
       "4                  85         3000    Sleep Apnea  \n",
       "5                  85         3000    Sleep Apnea  "
      ]
     },
     "execution_count": 57,
     "metadata": {},
     "output_type": "execute_result"
    }
   ],
   "source": [
    "data.head()"
   ]
  },
  {
   "cell_type": "code",
   "execution_count": 58,
   "id": "17bd8e25",
   "metadata": {},
   "outputs": [
    {
     "data": {
      "text/plain": [
       "array(['Overweight', 'Normal', 'Obese', 'Normal Weight'], dtype=object)"
      ]
     },
     "execution_count": 58,
     "metadata": {},
     "output_type": "execute_result"
    }
   ],
   "source": [
    "# object형 데이터 확인\n",
    "data['BMI Category'].unique()"
   ]
  },
  {
   "cell_type": "markdown",
   "id": "27603244",
   "metadata": {},
   "source": [
    "* Gender, BMI Category 수치화를 위해 원핫인코딩 방식으로 변환\n",
    "* 변환된 데이터의 기존 데이터는 삭제"
   ]
  },
  {
   "cell_type": "code",
   "execution_count": 59,
   "id": "edc953c3",
   "metadata": {},
   "outputs": [],
   "source": [
    "onehot_gender = pd.get_dummies(data['Gender'])\n",
    "data = pd.concat([data, onehot_gender], axis = 1)\n",
    "\n",
    "onehot_bmi = pd.get_dummies(data['BMI Category'])\n",
    "data = pd.concat([data, onehot_bmi], axis = 1)\n",
    "\n",
    "data.drop(['Gender', 'BMI Category'], axis=1, inplace=True)"
   ]
  },
  {
   "cell_type": "markdown",
   "id": "e51035fe",
   "metadata": {},
   "source": [
    "* 선형 회귀 모델에서 사용하기 위해 target 데이터도 원핫인코딩 방식으로 변환"
   ]
  },
  {
   "cell_type": "code",
   "execution_count": 60,
   "id": "eb12fc5c",
   "metadata": {},
   "outputs": [],
   "source": [
    "onehot_target = pd.get_dummies(data['Sleep Disorder'])\n",
    "data = pd.concat([data, onehot_target], axis=1)\n",
    "\n",
    "data.drop(['Sleep Disorder'], axis=1, inplace=True)"
   ]
  },
  {
   "cell_type": "markdown",
   "id": "e6b4df2c",
   "metadata": {},
   "source": [
    "* Blood Pressure 슬래시 이하 데이터 삭제"
   ]
  },
  {
   "cell_type": "code",
   "execution_count": 61,
   "id": "f7d55bcf",
   "metadata": {},
   "outputs": [],
   "source": [
    "for i in range(1, len(data['Blood Pressure'])+1) :\n",
    "    data.loc[i, 'Blood Pressure'] = data['Blood Pressure'][i].split('/')[0]"
   ]
  },
  {
   "cell_type": "code",
   "execution_count": 62,
   "id": "753e5b5f",
   "metadata": {},
   "outputs": [],
   "source": [
    "data['Blood Pressure'] = data['Blood Pressure'].astype(float)"
   ]
  },
  {
   "cell_type": "code",
   "execution_count": 63,
   "id": "ef645f04",
   "metadata": {},
   "outputs": [
    {
     "data": {
      "text/html": [
       "<div>\n",
       "<style scoped>\n",
       "    .dataframe tbody tr th:only-of-type {\n",
       "        vertical-align: middle;\n",
       "    }\n",
       "\n",
       "    .dataframe tbody tr th {\n",
       "        vertical-align: top;\n",
       "    }\n",
       "\n",
       "    .dataframe thead th {\n",
       "        text-align: right;\n",
       "    }\n",
       "</style>\n",
       "<table border=\"1\" class=\"dataframe\">\n",
       "  <thead>\n",
       "    <tr style=\"text-align: right;\">\n",
       "      <th></th>\n",
       "      <th>Age</th>\n",
       "      <th>Occupation</th>\n",
       "      <th>Sleep Duration</th>\n",
       "      <th>Quality of Sleep</th>\n",
       "      <th>Physical Activity Level</th>\n",
       "      <th>Stress Level</th>\n",
       "      <th>Blood Pressure</th>\n",
       "      <th>Heart Rate</th>\n",
       "      <th>Daily Steps</th>\n",
       "      <th>Female</th>\n",
       "      <th>Male</th>\n",
       "      <th>Normal</th>\n",
       "      <th>Normal Weight</th>\n",
       "      <th>Obese</th>\n",
       "      <th>Overweight</th>\n",
       "      <th>Insomnia</th>\n",
       "      <th>None</th>\n",
       "      <th>Sleep Apnea</th>\n",
       "    </tr>\n",
       "    <tr>\n",
       "      <th>Person ID</th>\n",
       "      <th></th>\n",
       "      <th></th>\n",
       "      <th></th>\n",
       "      <th></th>\n",
       "      <th></th>\n",
       "      <th></th>\n",
       "      <th></th>\n",
       "      <th></th>\n",
       "      <th></th>\n",
       "      <th></th>\n",
       "      <th></th>\n",
       "      <th></th>\n",
       "      <th></th>\n",
       "      <th></th>\n",
       "      <th></th>\n",
       "      <th></th>\n",
       "      <th></th>\n",
       "      <th></th>\n",
       "    </tr>\n",
       "  </thead>\n",
       "  <tbody>\n",
       "    <tr>\n",
       "      <th>1</th>\n",
       "      <td>27</td>\n",
       "      <td>Software Engineer</td>\n",
       "      <td>6.1</td>\n",
       "      <td>6</td>\n",
       "      <td>42</td>\n",
       "      <td>6</td>\n",
       "      <td>126.0</td>\n",
       "      <td>77</td>\n",
       "      <td>4200</td>\n",
       "      <td>0</td>\n",
       "      <td>1</td>\n",
       "      <td>0</td>\n",
       "      <td>0</td>\n",
       "      <td>0</td>\n",
       "      <td>1</td>\n",
       "      <td>0</td>\n",
       "      <td>1</td>\n",
       "      <td>0</td>\n",
       "    </tr>\n",
       "    <tr>\n",
       "      <th>2</th>\n",
       "      <td>28</td>\n",
       "      <td>Doctor</td>\n",
       "      <td>6.2</td>\n",
       "      <td>6</td>\n",
       "      <td>60</td>\n",
       "      <td>8</td>\n",
       "      <td>125.0</td>\n",
       "      <td>75</td>\n",
       "      <td>10000</td>\n",
       "      <td>0</td>\n",
       "      <td>1</td>\n",
       "      <td>1</td>\n",
       "      <td>0</td>\n",
       "      <td>0</td>\n",
       "      <td>0</td>\n",
       "      <td>0</td>\n",
       "      <td>1</td>\n",
       "      <td>0</td>\n",
       "    </tr>\n",
       "    <tr>\n",
       "      <th>3</th>\n",
       "      <td>28</td>\n",
       "      <td>Doctor</td>\n",
       "      <td>6.2</td>\n",
       "      <td>6</td>\n",
       "      <td>60</td>\n",
       "      <td>8</td>\n",
       "      <td>125.0</td>\n",
       "      <td>75</td>\n",
       "      <td>10000</td>\n",
       "      <td>0</td>\n",
       "      <td>1</td>\n",
       "      <td>1</td>\n",
       "      <td>0</td>\n",
       "      <td>0</td>\n",
       "      <td>0</td>\n",
       "      <td>0</td>\n",
       "      <td>1</td>\n",
       "      <td>0</td>\n",
       "    </tr>\n",
       "    <tr>\n",
       "      <th>4</th>\n",
       "      <td>28</td>\n",
       "      <td>Sales Representative</td>\n",
       "      <td>5.9</td>\n",
       "      <td>4</td>\n",
       "      <td>30</td>\n",
       "      <td>8</td>\n",
       "      <td>140.0</td>\n",
       "      <td>85</td>\n",
       "      <td>3000</td>\n",
       "      <td>0</td>\n",
       "      <td>1</td>\n",
       "      <td>0</td>\n",
       "      <td>0</td>\n",
       "      <td>1</td>\n",
       "      <td>0</td>\n",
       "      <td>0</td>\n",
       "      <td>0</td>\n",
       "      <td>1</td>\n",
       "    </tr>\n",
       "    <tr>\n",
       "      <th>5</th>\n",
       "      <td>28</td>\n",
       "      <td>Sales Representative</td>\n",
       "      <td>5.9</td>\n",
       "      <td>4</td>\n",
       "      <td>30</td>\n",
       "      <td>8</td>\n",
       "      <td>140.0</td>\n",
       "      <td>85</td>\n",
       "      <td>3000</td>\n",
       "      <td>0</td>\n",
       "      <td>1</td>\n",
       "      <td>0</td>\n",
       "      <td>0</td>\n",
       "      <td>1</td>\n",
       "      <td>0</td>\n",
       "      <td>0</td>\n",
       "      <td>0</td>\n",
       "      <td>1</td>\n",
       "    </tr>\n",
       "  </tbody>\n",
       "</table>\n",
       "</div>"
      ],
      "text/plain": [
       "           Age            Occupation  Sleep Duration  Quality of Sleep  \\\n",
       "Person ID                                                                \n",
       "1           27     Software Engineer             6.1                 6   \n",
       "2           28                Doctor             6.2                 6   \n",
       "3           28                Doctor             6.2                 6   \n",
       "4           28  Sales Representative             5.9                 4   \n",
       "5           28  Sales Representative             5.9                 4   \n",
       "\n",
       "           Physical Activity Level  Stress Level  Blood Pressure  Heart Rate  \\\n",
       "Person ID                                                                      \n",
       "1                               42             6           126.0          77   \n",
       "2                               60             8           125.0          75   \n",
       "3                               60             8           125.0          75   \n",
       "4                               30             8           140.0          85   \n",
       "5                               30             8           140.0          85   \n",
       "\n",
       "           Daily Steps  Female  Male  Normal  Normal Weight  Obese  \\\n",
       "Person ID                                                            \n",
       "1                 4200       0     1       0              0      0   \n",
       "2                10000       0     1       1              0      0   \n",
       "3                10000       0     1       1              0      0   \n",
       "4                 3000       0     1       0              0      1   \n",
       "5                 3000       0     1       0              0      1   \n",
       "\n",
       "           Overweight  Insomnia  None  Sleep Apnea  \n",
       "Person ID                                           \n",
       "1                   1         0     1            0  \n",
       "2                   0         0     1            0  \n",
       "3                   0         0     1            0  \n",
       "4                   0         0     0            1  \n",
       "5                   0         0     0            1  "
      ]
     },
     "execution_count": 63,
     "metadata": {},
     "output_type": "execute_result"
    }
   ],
   "source": [
    "# 데이터 확인\n",
    "data.head()"
   ]
  },
  {
   "cell_type": "markdown",
   "id": "b5af4629",
   "metadata": {
    "scrolled": true
   },
   "source": [
    "* train 데이터와 target 데이터로 구분"
   ]
  },
  {
   "cell_type": "code",
   "execution_count": 67,
   "id": "d983dc07",
   "metadata": {},
   "outputs": [],
   "source": [
    "sleep_train = data[['Female', 'Male', 'Age', 'Sleep Duration', 'Quality of Sleep', 'Physical Activity Level', 'Stress Level', 'Normal', 'Normal Weight', 'Obese', 'Overweight', 'Blood Pressure', 'Heart Rate', 'Daily Steps']].to_numpy()\n",
    "# sleep_train[:3]"
   ]
  },
  {
   "cell_type": "code",
   "execution_count": 65,
   "id": "c877b6f4",
   "metadata": {
    "scrolled": true
   },
   "outputs": [
    {
     "data": {
      "text/plain": [
       "array([[0, 1, 0],\n",
       "       [0, 1, 0],\n",
       "       [0, 1, 0],\n",
       "       [0, 0, 1],\n",
       "       [0, 0, 1]], dtype=uint8)"
      ]
     },
     "execution_count": 65,
     "metadata": {},
     "output_type": "execute_result"
    }
   ],
   "source": [
    "sleep_target = data[['Insomnia', 'None', 'Sleep Apnea']].to_numpy()\n",
    "sleep_target[:5]"
   ]
  },
  {
   "cell_type": "markdown",
   "id": "971f8159",
   "metadata": {},
   "source": [
    "<br>"
   ]
  },
  {
   "cell_type": "markdown",
   "id": "20d4ddd5",
   "metadata": {},
   "source": [
    "## 데이터 상관관계 표현"
   ]
  },
  {
   "cell_type": "code",
   "execution_count": 69,
   "id": "7dc83b90",
   "metadata": {},
   "outputs": [
    {
     "data": {
      "text/plain": [
       "<Axes: >"
      ]
     },
     "execution_count": 69,
     "metadata": {},
     "output_type": "execute_result"
    },
    {
     "data": {
      "image/png": "[encoded data removed]",
      "text/plain": [
       "<Figure size 1000x600 with 2 Axes>"
      ]
     },
     "metadata": {},
     "output_type": "display_data"
    }
   ],
   "source": [
    "import matplotlib.pyplot as plt\n",
    "import seaborn as sns\n",
    "\n",
    "data_sample = data[['Age', 'Sleep Duration', 'Quality of Sleep', 'Physical Activity Level', 'Stress Level', 'Blood Pressure', 'Heart Rate', 'Daily Steps']]\n",
    "corr = data_sample.corr()\n",
    "plt.figure(figsize=(10,6)) \n",
    "sns.heatmap(corr, annot=True, fmt='1.1f', cmap='coolwarm') # 상관관계 확인"
   ]
  },
  {
   "cell_type": "markdown",
   "id": "17f1445d",
   "metadata": {},
   "source": [
    "* Sleep Duration과 Quality of Sleep은 높은 양의 상관관계를 갖고 있다\n",
    "* Quality of Sleep과 Stress Level은 높은 음의 상관관계를 갖고 있다"
   ]
  },
  {
   "cell_type": "markdown",
   "id": "6ede34fc",
   "metadata": {},
   "source": [
    "##  훈련 데이터 나누기"
   ]
  },
  {
   "cell_type": "code",
   "execution_count": 27,
   "id": "1c762d75",
   "metadata": {},
   "outputs": [],
   "source": [
    "from sklearn.model_selection import train_test_split\n",
    "\n",
    "train_input, test_input, train_target, test_target = train_test_split(sleep_train, sleep_target, random_state=42)"
   ]
  },
  {
   "cell_type": "code",
   "execution_count": 30,
   "id": "ab82fd2b",
   "metadata": {},
   "outputs": [
    {
     "data": {
      "text/plain": [
       "(280, 14)"
      ]
     },
     "execution_count": 30,
     "metadata": {},
     "output_type": "execute_result"
    }
   ],
   "source": [
    "train_input[:3]\n",
    "train_input.shape"
   ]
  },
  {
   "cell_type": "code",
   "execution_count": 31,
   "id": "195a9486",
   "metadata": {},
   "outputs": [
    {
     "data": {
      "text/plain": [
       "(94, 14)"
      ]
     },
     "execution_count": 31,
     "metadata": {},
     "output_type": "execute_result"
    }
   ],
   "source": [
    "test_input[:3]\n",
    "test_input.shape"
   ]
  },
  {
   "cell_type": "markdown",
   "id": "f25aad69",
   "metadata": {},
   "source": [
    "## 훈련 데이터 표준화"
   ]
  },
  {
   "cell_type": "code",
   "execution_count": 33,
   "id": "c78f4ab2",
   "metadata": {},
   "outputs": [],
   "source": [
    "from sklearn.preprocessing import StandardScaler\n",
    "\n",
    "ss = StandardScaler()\n",
    "ss.fit(train_input)\n",
    "\n",
    "train_scaled = ss.transform(train_input)\n",
    "test_scaled = ss.transform(test_input)"
   ]
  },
  {
   "cell_type": "code",
   "execution_count": 34,
   "id": "7db5557e",
   "metadata": {},
   "outputs": [
    {
     "data": {
      "text/plain": [
       "array([[-1.04381619,  1.04381619,  0.17265472, -1.08260812, -1.15283871,\n",
       "        -0.73085692,  0.96057491, -1.02899151, -0.24618298, -0.14797909,\n",
       "         1.20670641,  0.1869272 ,  0.47516158, -0.55224501],\n",
       "       [-1.04381619,  1.04381619,  0.17265472, -1.08260812, -1.15283871,\n",
       "        -0.73085692,  0.96057491, -1.02899151, -0.24618298, -0.14797909,\n",
       "         1.20670641,  0.1869272 ,  0.47516158, -0.55224501],\n",
       "       [-1.04381619,  1.04381619, -0.53653825, -0.06325453,  0.55056413,\n",
       "        -0.00995531, -0.1766808 ,  0.97182532, -0.24618298, -0.14797909,\n",
       "        -0.82870199,  0.1869272 , -0.50853707,  0.69980845]])"
      ]
     },
     "execution_count": 34,
     "metadata": {},
     "output_type": "execute_result"
    }
   ],
   "source": [
    "train_scaled[:3]"
   ]
  },
  {
   "cell_type": "code",
   "execution_count": 35,
   "id": "c8170b35",
   "metadata": {},
   "outputs": [
    {
     "data": {
      "text/plain": [
       "array([[ 0.95802308, -0.95802308,  1.23644416,  1.72061425,  1.40226556,\n",
       "        -1.45175853, -1.31393651,  0.97182532, -0.24618298, -0.14797909,\n",
       "        -0.82870199, -0.4513608 , -1.24631107, -1.17827174],\n",
       "       [-1.04381619,  1.04381619, -1.36393004, -1.33744652, -1.15283871,\n",
       "        -1.45175853,  1.52920276,  0.97182532, -0.24618298, -0.14797909,\n",
       "        -0.82870199, -0.4513608 ,  0.47516158, -1.17827174],\n",
       "       [-1.04381619,  1.04381619, -1.6003277 , -1.46486572, -1.15283871,\n",
       "        -1.45175853,  1.52920276,  0.97182532, -0.24618298, -0.14797909,\n",
       "        -0.82870199, -1.08964879, -0.01668775,  0.69980845]])"
      ]
     },
     "execution_count": 35,
     "metadata": {},
     "output_type": "execute_result"
    }
   ],
   "source": [
    "test_scaled[:3]"
   ]
  },
  {
   "cell_type": "markdown",
   "id": "511acdda",
   "metadata": {},
   "source": [
    "<br>"
   ]
  },
  {
   "cell_type": "markdown",
   "id": "2be4da8d",
   "metadata": {},
   "source": [
    "## 1. 선형 회귀 모델"
   ]
  },
  {
   "cell_type": "code",
   "execution_count": 39,
   "id": "acd3b1d8",
   "metadata": {},
   "outputs": [
    {
     "name": "stdout",
     "output_type": "stream",
     "text": [
      "0.5915987412437881\n",
      "0.5856466165662247\n"
     ]
    }
   ],
   "source": [
    "from sklearn.linear_model import LinearRegression\n",
    "\n",
    "# 표준화한 데이터 학습\n",
    "lr = LinearRegression()\n",
    "lr.fit(train_scaled, train_target)\n",
    "\n",
    "print(lr.score(train_scaled, train_target))\n",
    "print(lr.score(test_scaled, test_target))"
   ]
  },
  {
   "cell_type": "code",
   "execution_count": 38,
   "id": "e8f0843e",
   "metadata": {},
   "outputs": [
    {
     "name": "stdout",
     "output_type": "stream",
     "text": [
      "0.593022669236782\n",
      "0.587941973936325\n"
     ]
    }
   ],
   "source": [
    "# 표준화 하지 않은 데이터 학습\n",
    "lr2 = LinearRegression()\n",
    "lr2.fit(train_input, train_target)\n",
    "\n",
    "print(lr2.score(train_input, train_target))\n",
    "print(lr2.score(test_input, test_target))"
   ]
  },
  {
   "cell_type": "markdown",
   "id": "f4e9e1e5",
   "metadata": {},
   "source": [
    "### 선형 회귀 모델\n",
    "* 수면 장애를 일으키는 요인이 종합되어 수면 장애 판단에 영향을 미칠 것이라고 예상했음\n",
    "* 데이터에서 제공하는 수면 장애유 형은 총 3가지로 예측모델(회귀모델)을 사용하여 각 특성의 수치를 집어 넣으면 예측이 될 것이라고 생각함\n",
    "* 그러나 실제로 학습 후 테스트 점수 확인 결과, 예상과는 다르게 점수가 많이 낮게 나옴 \n",
    "* 표준화 한 lr모델과 표준화 하지 않은 lr2의 모델의 스코어가 거의 같음을 확인 할 수 있음"
   ]
  },
  {
   "cell_type": "markdown",
   "id": "f1bc520c",
   "metadata": {},
   "source": [
    "---"
   ]
  },
  {
   "cell_type": "markdown",
   "id": "9a777cb7",
   "metadata": {},
   "source": [
    "* 이 결과로 회귀모델에서는 분석이 제대로 되지 않는다는 것을 알 수 있었음\n",
    "* 따라서 회귀모델이 아닌 분류모델에서 모델 학습과 테스트를 진행하기로 결정함\n",
    "* 해당 과정에서 수면 장애 예측이 아닌 수면 장애 유형을 찾아내는 특성의 중요도를 분석하여 어떤 특성이 수면 장애에 가장 영향을 미치는지 분석하고자 함"
   ]
  },
  {
   "cell_type": "markdown",
   "id": "5de1e473",
   "metadata": {},
   "source": [
    "<br>"
   ]
  }
 ],
 "metadata": {
  "kernelspec": {
   "display_name": "Python 3 (ipykernel)",
   "language": "python",
   "name": "python3"
  },
  "language_info": {
   "codemirror_mode": {
    "name": "ipython",
    "version": 3
   },
   "file_extension": ".py",
   "mimetype": "text/x-python",
   "name": "python",
   "nbconvert_exporter": "python",
   "pygments_lexer": "ipython3",
   "version": "3.10.9"
  }
 },
 "nbformat": 4,
 "nbformat_minor": 5
}
